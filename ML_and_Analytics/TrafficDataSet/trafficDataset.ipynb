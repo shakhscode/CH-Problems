{
 "cells": [
  {
   "cell_type": "code",
   "execution_count": 11,
   "metadata": {},
   "outputs": [],
   "source": [
    "#import requird libraries\n",
    "\n",
    "import pandas as pd\n",
    "import matplotlib.pyplot as plt\n",
    "#Set the default plot size\n",
    "plt.rcParams['figure.figsize']=(18,10)"
   ]
  },
  {
   "cell_type": "code",
   "execution_count": 2,
   "metadata": {},
   "outputs": [
    {
     "data": {
      "text/html": [
       "<div>\n",
       "<style scoped>\n",
       "    .dataframe tbody tr th:only-of-type {\n",
       "        vertical-align: middle;\n",
       "    }\n",
       "\n",
       "    .dataframe tbody tr th {\n",
       "        vertical-align: top;\n",
       "    }\n",
       "\n",
       "    .dataframe thead th {\n",
       "        text-align: right;\n",
       "    }\n",
       "</style>\n",
       "<table border=\"1\" class=\"dataframe\">\n",
       "  <thead>\n",
       "    <tr style=\"text-align: right;\">\n",
       "      <th></th>\n",
       "      <th>ID</th>\n",
       "      <th>Traffic Volume Count Location  Address</th>\n",
       "      <th>Street</th>\n",
       "      <th>Date of Count</th>\n",
       "      <th>Total Passing Vehicle Volume</th>\n",
       "      <th>Vehicle Volume By Each Direction of Traffic</th>\n",
       "      <th>Latitude</th>\n",
       "      <th>Longitude</th>\n",
       "      <th>Location</th>\n",
       "      <th>Boundaries - ZIP Codes</th>\n",
       "      <th>Community Areas</th>\n",
       "      <th>Zip Codes</th>\n",
       "      <th>Census Tracts</th>\n",
       "      <th>Wards</th>\n",
       "      <th>Historical Wards 2003-2015</th>\n",
       "    </tr>\n",
       "  </thead>\n",
       "  <tbody>\n",
       "    <tr>\n",
       "      <th>0</th>\n",
       "      <td>414</td>\n",
       "      <td>5838 West</td>\n",
       "      <td>Lake St</td>\n",
       "      <td>2006-11-14T08:00:00.000Z</td>\n",
       "      <td>7100</td>\n",
       "      <td>East Bound: 3600 / West Bound: 3500</td>\n",
       "      <td>41.887904</td>\n",
       "      <td>-87.771064</td>\n",
       "      <td>{'latitude': '41.887904', 'longitude': '-87.77...</td>\n",
       "      <td>32.0</td>\n",
       "      <td>26.0</td>\n",
       "      <td>22216</td>\n",
       "      <td>672.0</td>\n",
       "      <td>7.0</td>\n",
       "      <td>52.0</td>\n",
       "    </tr>\n",
       "    <tr>\n",
       "      <th>1</th>\n",
       "      <td>176</td>\n",
       "      <td>320 East</td>\n",
       "      <td>76th St</td>\n",
       "      <td>2006-03-28T08:00:00.000Z</td>\n",
       "      <td>8600</td>\n",
       "      <td>East Bound: 3800 / West Bound: 4800</td>\n",
       "      <td>41.756542</td>\n",
       "      <td>-87.617335</td>\n",
       "      <td>{'latitude': '41.756542', 'longitude': '-87.61...</td>\n",
       "      <td>61.0</td>\n",
       "      <td>67.0</td>\n",
       "      <td>21546</td>\n",
       "      <td>475.0</td>\n",
       "      <td>32.0</td>\n",
       "      <td>31.0</td>\n",
       "    </tr>\n",
       "    <tr>\n",
       "      <th>2</th>\n",
       "      <td>1367</td>\n",
       "      <td>1730 East</td>\n",
       "      <td>57th Dr</td>\n",
       "      <td>2006-08-24T07:00:00.000Z</td>\n",
       "      <td>53500</td>\n",
       "      <td>East Bound: 27800 / West Bound: 25700</td>\n",
       "      <td>41.792663</td>\n",
       "      <td>-87.582231</td>\n",
       "      <td>{'latitude': '41.792663', 'longitude': '-87.58...</td>\n",
       "      <td>60.0</td>\n",
       "      <td>8.0</td>\n",
       "      <td>22260</td>\n",
       "      <td>502.0</td>\n",
       "      <td>33.0</td>\n",
       "      <td>32.0</td>\n",
       "    </tr>\n",
       "  </tbody>\n",
       "</table>\n",
       "</div>"
      ],
      "text/plain": [
       "    ID  Traffic Volume Count Location  Address   Street  \\\n",
       "0   414                              5838 West  Lake St   \n",
       "1   176                               320 East  76th St   \n",
       "2  1367                              1730 East  57th Dr   \n",
       "\n",
       "              Date of Count  Total Passing Vehicle Volume  \\\n",
       "0  2006-11-14T08:00:00.000Z                          7100   \n",
       "1  2006-03-28T08:00:00.000Z                          8600   \n",
       "2  2006-08-24T07:00:00.000Z                         53500   \n",
       "\n",
       "  Vehicle Volume By Each Direction of Traffic   Latitude  Longitude  \\\n",
       "0         East Bound: 3600 / West Bound: 3500  41.887904 -87.771064   \n",
       "1         East Bound: 3800 / West Bound: 4800  41.756542 -87.617335   \n",
       "2       East Bound: 27800 / West Bound: 25700  41.792663 -87.582231   \n",
       "\n",
       "                                            Location  Boundaries - ZIP Codes  \\\n",
       "0  {'latitude': '41.887904', 'longitude': '-87.77...                    32.0   \n",
       "1  {'latitude': '41.756542', 'longitude': '-87.61...                    61.0   \n",
       "2  {'latitude': '41.792663', 'longitude': '-87.58...                    60.0   \n",
       "\n",
       "   Community Areas  Zip Codes  Census Tracts  Wards  \\\n",
       "0             26.0      22216          672.0    7.0   \n",
       "1             67.0      21546          475.0   32.0   \n",
       "2              8.0      22260          502.0   33.0   \n",
       "\n",
       "   Historical Wards 2003-2015  \n",
       "0                        52.0  \n",
       "1                        31.0  \n",
       "2                        32.0  "
      ]
     },
     "execution_count": 2,
     "metadata": {},
     "output_type": "execute_result"
    }
   ],
   "source": [
    "#load the dataset \n",
    "data = pd.read_csv('average-daily-traffic-counts.csv')\n",
    "data.head(3)"
   ]
  },
  {
   "cell_type": "code",
   "execution_count": 3,
   "metadata": {},
   "outputs": [
    {
     "name": "stderr",
     "output_type": "stream",
     "text": [
      "/home/user/anaconda3/lib/python3.7/site-packages/ipykernel_launcher.py:2: FutureWarning: Dropping of nuisance columns in DataFrame reductions (with 'numeric_only=None') is deprecated; in a future version this will raise TypeError.  Select only valid columns before calling the reduction.\n",
      "  \n"
     ]
    },
    {
     "data": {
      "text/plain": [
       "ID                                689.937451\n",
       "Total Passing Vehicle Volume    19466.301798\n",
       "Latitude                           41.849394\n",
       "Longitude                         -87.670298\n",
       "Boundaries - ZIP Codes             32.849921\n",
       "Community Areas                    37.849921\n",
       "Zip Codes                       18520.457389\n",
       "Census Tracts                     369.827668\n",
       "Wards                              26.774092\n",
       "Historical Wards 2003-2015         28.432859\n",
       "dtype: float64"
      ]
     },
     "execution_count": 3,
     "metadata": {},
     "output_type": "execute_result"
    }
   ],
   "source": [
    "# To Get the mean of the data set\n",
    "data.mean(axis=0)\n",
    "#This will give an warning because the dataset contains some non numeric values for which mean can't be calculated"
   ]
  },
  {
   "attachments": {},
   "cell_type": "markdown",
   "metadata": {},
   "source": [
    "#### 1) Get the average Total Passing Vehicle Volume."
   ]
  },
  {
   "cell_type": "code",
   "execution_count": 4,
   "metadata": {},
   "outputs": [
    {
     "name": "stdout",
     "output_type": "stream",
     "text": [
      "Average traffic count: 19466.3018\n"
     ]
    }
   ],
   "source": [
    "# Get the average volume of traffic for the city\n",
    "\n",
    "avg = data['Total Passing Vehicle Volume'].mean(axis=0)\n",
    "\n",
    "print(f'Average traffic count: {round(avg,4)}')"
   ]
  },
  {
   "attachments": {},
   "cell_type": "markdown",
   "metadata": {},
   "source": [
    "### 2) Plot a bar chart\n",
    "Plot a bar chart using matplotlib which will show average vehicle passing volume through the streets  in a  month.\n",
    "\n",
    "For this we have to extract the month from 'Date of Count'"
   ]
  },
  {
   "cell_type": "code",
   "execution_count": 13,
   "metadata": {},
   "outputs": [
    {
     "name": "stdout",
     "output_type": "stream",
     "text": [
      "<class 'str'>\n"
     ]
    }
   ],
   "source": [
    "#Originally 'Date of Count' column is a str object,\n",
    "print(type(data['Date of Count'][0]))\n",
    "\n",
    "#  we have to convert it into a datetime object using to_datetime() method.\n",
    "#Then from the datetime object we can extract the month.\n",
    "\n",
    "data['month_from_date'] = pd.to_datetime(data['Date of Count']).dt.month"
   ]
  },
  {
   "cell_type": "code",
   "execution_count": 14,
   "metadata": {},
   "outputs": [
    {
     "data": {
      "text/plain": [
       "array([11,  3,  8, 10,  5,  9,  4,  1, 12,  2,  6,  7])"
      ]
     },
     "execution_count": 14,
     "metadata": {},
     "output_type": "execute_result"
    }
   ],
   "source": [
    "data['month_from_date'].unique()"
   ]
  },
  {
   "cell_type": "code",
   "execution_count": 15,
   "metadata": {},
   "outputs": [
    {
     "data": {
      "image/png": "[encoded data removed]",
      "text/plain": [
       "<Figure size 1296x720 with 1 Axes>"
      ]
     },
     "metadata": {
      "needs_background": "light"
     },
     "output_type": "display_data"
    }
   ],
   "source": [
    "#Perform a group by operation which will group the data according to month and will give mean of vechicle passing volume \n",
    "\n",
    "grouped = data.groupby(['month_from_date'])['Total Passing Vehicle Volume'].mean()\n",
    "#This will generate a Pandas series in index--> Values form\n",
    "\n",
    "#Now lets plot a bar plot based on the data of this groupby operation\n",
    "plt.bar(grouped.index, grouped.values, align='center')\n",
    "plt.xlabel('Month')\n",
    "plt.ylabel('Average vehicle passing volume through all streets')\n",
    "plt.title('Average vehicle passing volume through all streets in a month')\n",
    "plt.show()\n",
    "\n"
   ]
  },
  {
   "attachments": {},
   "cell_type": "markdown",
   "metadata": {},
   "source": [
    "The above plot shows that (lets say for the month of january) on an average  17433 vechicles pass through all the streets of Chicago."
   ]
  },
  {
   "cell_type": "code",
   "execution_count": 10,
   "metadata": {},
   "outputs": [
    {
     "data": {
      "text/plain": [
       "month_from_date\n",
       "1     17433.333333\n",
       "2     18366.666667\n",
       "3     16403.829787\n",
       "4     21319.148936\n",
       "5     14543.750000\n",
       "6     35200.000000\n",
       "7     12600.000000\n",
       "8     24182.835821\n",
       "9     18573.762376\n",
       "10    18913.424658\n",
       "11    18853.488372\n",
       "12    26487.500000\n",
       "Name: Total Passing Vehicle Volume, dtype: float64"
      ]
     },
     "execution_count": 10,
     "metadata": {},
     "output_type": "execute_result"
    }
   ],
   "source": [
    "data.groupby(['month_from_date'])['Total Passing Vehicle Volume'].mean()"
   ]
  }
 ],
 "metadata": {
  "kernelspec": {
   "display_name": "base",
   "language": "python",
   "name": "python3"
  },
  "language_info": {
   "codemirror_mode": {
    "name": "ipython",
    "version": 3
   },
   "file_extension": ".py",
   "mimetype": "text/x-python",
   "name": "python",
   "nbconvert_exporter": "python",
   "pygments_lexer": "ipython3",
   "version": "3.7.6 (default, Jan  8 2020, 19:59:22) \n[GCC 7.3.0]"
  },
  "orig_nbformat": 4,
  "vscode": {
   "interpreter": {
    "hash": "1448b48b023bcc9c3d4a79e814720a10ca6d4244f75e0f7ce4af58f96ba2b7d3"
   }
  }
 },
 "nbformat": 4,
 "nbformat_minor": 2
}
