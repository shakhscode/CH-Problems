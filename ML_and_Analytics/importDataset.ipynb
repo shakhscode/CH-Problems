{
 "cells": [
  {
   "cell_type": "code",
   "execution_count": 1,
   "metadata": {},
   "outputs": [],
   "source": [
    "#import the required libraries\n",
    "import pandas as pd\n"
   ]
  },
  {
   "cell_type": "code",
   "execution_count": 21,
   "metadata": {},
   "outputs": [],
   "source": [
    "import pandas as pd\n",
    "from sklearn.model_selection import train_test_split \n",
    "\n",
    "class Data():\n",
    "    def dataAllocation(self, path):\n",
    "\n",
    "        #import the dataset from the provided path\n",
    "        df = pd.read_csv(path)\n",
    "\n",
    "        #path should be like this \n",
    "        # path = '/home/user/dataset.csv'\n",
    "        # Just use the full path length along with the file name\n",
    "        #In the example file name = 'dataset.csv'\n",
    "\n",
    "\n",
    "        #To extract the x_data and y_data. The data should be in a good format \n",
    "\n",
    "        # If the dataset has 10 columns the first 9 should be the features and last column should be the output\n",
    "\n",
    "        # So extract the features first\n",
    "        x_data = df.iloc[:,0:len(df)-1]\n",
    "\n",
    "        #Extract the output\n",
    "        y_data = df.iloc[:,-1]   #the last coulmn\n",
    "\n",
    "        return x_data, y_data\n",
    "\n",
    "    def trianSets(self, x_data, y_data):\n",
    "        \n",
    "        x_train, x_test, y_train, y_test = train_test_split(x_data, y_data, test_size=0.30, random_state=614 , shuffle=True)\n",
    "        return x_train, x_test, y_train, y_test\n",
    "\n",
    "    "
   ]
  },
  {
   "cell_type": "code",
   "execution_count": 22,
   "metadata": {},
   "outputs": [
    {
     "data": {
      "text/plain": [
       "(   Email No  the  to  ect  and  for  of    a  you\n",
       " 0   Email 1    0   0    1    0    1   0    6    0\n",
       " 1   Email 2    6   5    1    3    2   3   38    3\n",
       " 2   Email 3    0   0    1    0    0   0    8    0\n",
       " 3   Email 4    0   1    2    0    1   0    9    0\n",
       " 4   Email 5    0   0    1    0    1   0    4    0\n",
       " 5   Email 6    3  13    2    1    9   1   65   14\n",
       " 6   Email 7    1   2    1    1    2   1   33    0\n",
       " 7   Email 8    9  19    3    5    5   3  228    2\n",
       " 8   Email 9   10   5    1    2    1   2   39    8\n",
       " 9  Email 10    9   5    4    1    2   4   51    4,\n",
       " 0    0\n",
       " 1    1\n",
       " 2    0\n",
       " 3    0\n",
       " 4    0\n",
       " 5    0\n",
       " 6    0\n",
       " 7    1\n",
       " 8    1\n",
       " 9    0\n",
       " Name: Prediction, dtype: int64)"
      ]
     },
     "execution_count": 22,
     "metadata": {},
     "output_type": "execute_result"
    }
   ],
   "source": [
    "# To test it create an object of the class Data\n",
    "t = Data()\n",
    "\n",
    "#Set a path \n",
    "path = '/home/user/dataset.csv'\n",
    "\n",
    "#And call the class function for the object t\n",
    "t.dataAllocation(path)"
   ]
  },
  {
   "cell_type": "code",
   "execution_count": 23,
   "metadata": {},
   "outputs": [
    {
     "data": {
      "text/plain": [
       "(  Email No  the  to  ect  and  for  of    a  you\n",
       " 6  Email 7    1   2    1    1    2   1   33    0\n",
       " 4  Email 5    0   0    1    0    1   0    4    0\n",
       " 2  Email 3    0   0    1    0    0   0    8    0\n",
       " 0  Email 1    0   0    1    0    1   0    6    0\n",
       " 1  Email 2    6   5    1    3    2   3   38    3\n",
       " 7  Email 8    9  19    3    5    5   3  228    2\n",
       " 5  Email 6    3  13    2    1    9   1   65   14,\n",
       "    Email No  the  to  ect  and  for  of   a  you\n",
       " 8   Email 9   10   5    1    2    1   2  39    8\n",
       " 9  Email 10    9   5    4    1    2   4  51    4\n",
       " 3   Email 4    0   1    2    0    1   0   9    0,\n",
       " 6    0\n",
       " 4    0\n",
       " 2    0\n",
       " 0    0\n",
       " 1    1\n",
       " 7    1\n",
       " 5    0\n",
       " Name: Prediction, dtype: int64,\n",
       " 8    1\n",
       " 9    0\n",
       " 3    0\n",
       " Name: Prediction, dtype: int64)"
      ]
     },
     "execution_count": 23,
     "metadata": {},
     "output_type": "execute_result"
    }
   ],
   "source": [
    "#get the x_data and y_data as an output of the function dataAllocation()\n",
    "\n",
    "x, y  = t.dataAllocation(path)\n",
    "\n",
    "#Now provide x and y as the input for the function trainSets()\n",
    "\n",
    "t.trianSets(x,y)"
   ]
  },
  {
   "cell_type": "code",
   "execution_count": null,
   "metadata": {},
   "outputs": [],
   "source": []
  }
 ],
 "metadata": {
  "kernelspec": {
   "display_name": "Python 3.7.6 ('base')",
   "language": "python",
   "name": "python3"
  },
  "language_info": {
   "codemirror_mode": {
    "name": "ipython",
    "version": 3
   },
   "file_extension": ".py",
   "mimetype": "text/x-python",
   "name": "python",
   "nbconvert_exporter": "python",
   "pygments_lexer": "ipython3",
   "version": "3.7.6"
  },
  "orig_nbformat": 4,
  "vscode": {
   "interpreter": {
    "hash": "1448b48b023bcc9c3d4a79e814720a10ca6d4244f75e0f7ce4af58f96ba2b7d3"
   }
  }
 },
 "nbformat": 4,
 "nbformat_minor": 2
}
