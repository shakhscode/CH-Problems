{
 "cells": [
  {
   "cell_type": "code",
   "execution_count": 20,
   "metadata": {},
   "outputs": [
    {
     "name": "stdout",
     "output_type": "stream",
     "text": [
      "For x=0.5 f(x) = 0.9689\n",
      "For x=2.3 f(x) = 0.4348\n",
      "For x=4.6 f(x) = 1.1313\n",
      "For x=21.5 f(x) = 0.4716\n"
     ]
    },
    {
     "ename": "UnboundLocalError",
     "evalue": "local variable 'val' referenced before assignment",
     "output_type": "error",
     "traceback": [
      "\u001b[0;31m---------------------------------------------------------------------------\u001b[0m",
      "\u001b[0;31mUnboundLocalError\u001b[0m                         Traceback (most recent call last)",
      "\u001b[1;32m/home/user/CourseHero/Python/piecewisefunction.ipynb Cell 1\u001b[0m in \u001b[0;36m<cell line: 21>\u001b[0;34m()\u001b[0m\n\u001b[1;32m     <a href='vscode-notebook-cell:/home/user/CourseHero/Python/piecewisefunction.ipynb#W0sZmlsZQ%3D%3D?line=23'>24</a>\u001b[0m inputs\u001b[39m.\u001b[39mappend(inp)  \u001b[39m#Store the value in a list, we may need to use them later\u001b[39;00m\n\u001b[1;32m     <a href='vscode-notebook-cell:/home/user/CourseHero/Python/piecewisefunction.ipynb#W0sZmlsZQ%3D%3D?line=25'>26</a>\u001b[0m \u001b[39m#get the function value\u001b[39;00m\n\u001b[0;32m---> <a href='vscode-notebook-cell:/home/user/CourseHero/Python/piecewisefunction.ipynb#W0sZmlsZQ%3D%3D?line=26'>27</a>\u001b[0m output \u001b[39m=\u001b[39m fx(inp) \n\u001b[1;32m     <a href='vscode-notebook-cell:/home/user/CourseHero/Python/piecewisefunction.ipynb#W0sZmlsZQ%3D%3D?line=27'>28</a>\u001b[0m \u001b[39m#store it in a list for further use\u001b[39;00m\n\u001b[1;32m     <a href='vscode-notebook-cell:/home/user/CourseHero/Python/piecewisefunction.ipynb#W0sZmlsZQ%3D%3D?line=28'>29</a>\u001b[0m outputs\u001b[39m.\u001b[39mappend(output)\n",
      "\u001b[1;32m/home/user/CourseHero/Python/piecewisefunction.ipynb Cell 1\u001b[0m in \u001b[0;36mfx\u001b[0;34m(x)\u001b[0m\n\u001b[1;32m     <a href='vscode-notebook-cell:/home/user/CourseHero/Python/piecewisefunction.ipynb#W0sZmlsZQ%3D%3D?line=11'>12</a>\u001b[0m \u001b[39melif\u001b[39;00m x\u001b[39m>\u001b[39m\u001b[39m=\u001b[39m \u001b[39m5\u001b[39m:\n\u001b[1;32m     <a href='vscode-notebook-cell:/home/user/CourseHero/Python/piecewisefunction.ipynb#W0sZmlsZQ%3D%3D?line=12'>13</a>\u001b[0m     val \u001b[39m=\u001b[39m math\u001b[39m.\u001b[39msin(x)\n\u001b[0;32m---> <a href='vscode-notebook-cell:/home/user/CourseHero/Python/piecewisefunction.ipynb#W0sZmlsZQ%3D%3D?line=13'>14</a>\u001b[0m val \u001b[39m=\u001b[39m \u001b[39mround\u001b[39m(val,\u001b[39m4\u001b[39m)\n\u001b[1;32m     <a href='vscode-notebook-cell:/home/user/CourseHero/Python/piecewisefunction.ipynb#W0sZmlsZQ%3D%3D?line=14'>15</a>\u001b[0m \u001b[39mreturn\u001b[39;00m val\n",
      "\u001b[0;31mUnboundLocalError\u001b[0m: local variable 'val' referenced before assignment"
     ]
    }
   ],
   "source": [
    "#first define the piecewise function to calculate the function value.\n",
    "#for that we need to import math module\n",
    "import math\n",
    "\n",
    "def fx(x):\n",
    "    if x>(-1*math.pi) and x<1:\n",
    "        val = math.cos(x**2)\n",
    "    elif x>=1 and x<3:\n",
    "        val = 1/x\n",
    "    elif x>=3 and x<5:\n",
    "        val = math.exp(-0.1*x) + 0.5\n",
    "    elif x>= 5:\n",
    "        val = math.sin(x)\n",
    "    val = round(val,4)\n",
    "    return val\n",
    "\n",
    "# Create two lists to store the user input values and output values\n",
    "inputs = []\n",
    "outputs = []\n",
    "cnt = 1\n",
    "while cnt <=5:\n",
    "    #take the input\n",
    "    inp = float(input('Enter the value for x:'))\n",
    "    inputs.append(inp)  #Store the value in a list, we may need to use them later\n",
    "    \n",
    "    #get the function value\n",
    "    output = fx(inp) \n",
    "    #store it in a list for further use\n",
    "    outputs.append(output)\n",
    "\n",
    "    #You can show the value immediately\n",
    "    print(f'For x={inp} f(x) = {output}')\n",
    "\n",
    "    cnt = cnt + 1  #Increment the counter so that it will stop after taking 5 inputs\n",
    "\n",
    "#Finally you can show all the inputs and outputs together\n",
    "print('x values: ', inputs)\n",
    "print('f(x) values', outputs)\n"
   ]
  },
  {
   "cell_type": "code",
   "execution_count": null,
   "metadata": {},
   "outputs": [],
   "source": []
  },
  {
   "cell_type": "code",
   "execution_count": null,
   "metadata": {},
   "outputs": [],
   "source": []
  },
  {
   "cell_type": "code",
   "execution_count": null,
   "metadata": {},
   "outputs": [],
   "source": []
  },
  {
   "cell_type": "code",
   "execution_count": null,
   "metadata": {},
   "outputs": [],
   "source": [
    "cnt = 1\n",
    "while cnt <=5:\n",
    "    print(input('Enter the value for x'))\n",
    "    cnt = cnt + 1  #Increment the counter so that it will stop after taking 5 inputs"
   ]
  }
 ],
 "metadata": {
  "kernelspec": {
   "display_name": "Python 3.8.10 64-bit",
   "language": "python",
   "name": "python3"
  },
  "language_info": {
   "codemirror_mode": {
    "name": "ipython",
    "version": 3
   },
   "file_extension": ".py",
   "mimetype": "text/x-python",
   "name": "python",
   "nbconvert_exporter": "python",
   "pygments_lexer": "ipython3",
   "version": "3.8.10"
  },
  "orig_nbformat": 4,
  "vscode": {
   "interpreter": {
    "hash": "916dbcbb3f70747c44a77c7bcd40155683ae19c65e1c03b4aa3499c5328201f1"
   }
  }
 },
 "nbformat": 4,
 "nbformat_minor": 2
}
