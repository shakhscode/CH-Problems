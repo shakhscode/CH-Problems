{
 "cells": [
  {
   "cell_type": "code",
   "execution_count": 9,
   "metadata": {},
   "outputs": [
    {
     "data": {
      "image/png": "[encoded data removed]",
      "text/plain": [
       "<Figure size 432x288 with 1 Axes>"
      ]
     },
     "metadata": {},
     "output_type": "display_data"
    }
   ],
   "source": [
    "# create 3 lists, one for each Savings: Tution, Car, Retirement \n",
    "\n",
    "# Each list has two numbers\n",
    "# first one = Actual Dollers saved\n",
    "# second one = Dollers for savings as your goal\n",
    "\n",
    "#add  the values as specified in the question\n",
    "Tution = [600,780]\n",
    "\n",
    "Car = [1300,1560]\n",
    "\n",
    "Retirement = [450,520]\n",
    "\n",
    "\n",
    "#define a function to calculate the % of goal reached\n",
    "\n",
    "def goalReached(l):\n",
    "    # l is the list that contains savings amount and goal amount in dollers\n",
    "    actual_dollers_saved = float(l[0])\n",
    "    goal_dollers = float(l[1])\n",
    "    percentage_goal_reached = round((actual_dollers_saved/goal_dollers)*100,1)\n",
    "    return percentage_goal_reached\n",
    "\n",
    "#Now plot the pie chart\n",
    "\n",
    "#import the required libraries\n",
    "import matplotlib.pyplot as plt\n",
    "\n",
    "#Lets plot a pie chart as shown in the question\n",
    "\n",
    "# set a separation distince\n",
    "distance = 0.2\n",
    "\n",
    "#create a list of labels to label the chart\n",
    "labels = ['Tution', 'Car', 'Retirement']\n",
    "\n",
    "#Find the values to show in chart\n",
    "sizes = [goalReached(Tution), goalReached(Car), goalReached(Retirement)]\n",
    "\n",
    "spliters = (distance, distance, distance)\n",
    "plt.pie(sizes, labels=labels, explode=spliters, autopct='%1.1f%%')\n",
    "plt.show()\n"
   ]
  }
 ],
 "metadata": {
  "kernelspec": {
   "display_name": "Python 3.7.6 ('base')",
   "language": "python",
   "name": "python3"
  },
  "language_info": {
   "codemirror_mode": {
    "name": "ipython",
    "version": 3
   },
   "file_extension": ".py",
   "mimetype": "text/x-python",
   "name": "python",
   "nbconvert_exporter": "python",
   "pygments_lexer": "ipython3",
   "version": "3.7.6 (default, Jan  8 2020, 19:59:22) \n[GCC 7.3.0]"
  },
  "orig_nbformat": 4,
  "vscode": {
   "interpreter": {
    "hash": "1448b48b023bcc9c3d4a79e814720a10ca6d4244f75e0f7ce4af58f96ba2b7d3"
   }
  }
 },
 "nbformat": 4,
 "nbformat_minor": 2
}
