{
 "cells": [
  {
   "cell_type": "code",
   "execution_count": 44,
   "metadata": {},
   "outputs": [
    {
     "name": "stdout",
     "output_type": "stream",
     "text": [
      "Type of the imported data: <class 'numpy.ndarray'>\n",
      "Shape of the imported numpy array: (20, 2)\n",
      "Element data type: <class 'numpy.str_'>\n",
      "Element data type after conversion: <class 'numpy.int64'>\n",
      "Voltage drop in the respective resistors :\n",
      " [0.46 0.84 0.64 0.64 1.52 0.48 1.74 0.9  0.64 0.86 1.96 0.24 0.68 0.9\n",
      " 2.46 1.26 1.52 0.46 1.72 0.42]\n"
     ]
    }
   ],
   "source": [
    "#import numpy as we need to solve the problem\n",
    "import numpy as np\n",
    "\n",
    "#import the data from the text file as a numpy array\n",
    "data = np.loadtxt(\"my_circuit.txt\", skiprows=1, dtype='str')\n",
    "#this will import the data and will create a n-dimensional array in numpy\n",
    "\n",
    "#you can check the numpy array type\n",
    "print('Type of the imported data:',type(data))\n",
    "\n",
    "# you can check the shape of the array\n",
    "print('Shape of the imported numpy array:',data.shape)\n",
    "\n",
    "# Since the second column array in the text file represents resistances of the respective resistors \n",
    "# separate the resistances as a new array\n",
    "resistances = data[:,1]  #this will extract all the values from the second column of the numpy array\n",
    "\n",
    "#Now check the type of the array elements\n",
    "print('Element data type:',type(resistances[2]))\n",
    "\n",
    "#It shows that data type of the array elements is string. But for calculations we need them as integer\n",
    "#So convert them to integers\n",
    "resistances=resistances.astype(int)\n",
    "#Now check the type\n",
    "print('Element data type after conversion:',type(resistances[2]))\n",
    "\n",
    "#Till now we have imported the data, extracted the resistance values and converted them to integers successfully\n",
    "\n",
    "#Now define a function to calculate the voltage drop\n",
    "def voltageDrop(r_array,i):    # r= numpy array contaning the resistances, i = current \n",
    "    # calculate voltage\n",
    "    v_array = i*r_array\n",
    "    return v_array\n",
    "    #output v_array will be a numpy array containing voltages\n",
    "\n",
    "\n",
    "#Now calculate the voltages \n",
    "voltageDrops = voltageDrop(resistances, i = 0.02)   #lets say current, i = 0.02\n",
    "\n",
    "#Now save the results as _.npy file\n",
    "np.save('resistors_voltages.npy', voltageDrops, allow_pickle = True)\n",
    "#Note that you can't open a _.npy file in normal text editors.\n",
    "\n",
    "#Now open the saved file with binary read access ('rb') permission because _.npy is a binary file object.\n",
    "with open('resistors_voltages.npy', 'rb') as f:\n",
    "    results = np.load(f)\n",
    "\n",
    "#Display the outputs\n",
    "print(f'Voltage drop in the respective resistors :\\n {results}')"
   ]
  }
 ],
 "metadata": {
  "kernelspec": {
   "display_name": "Python 3.8.10 64-bit",
   "language": "python",
   "name": "python3"
  },
  "language_info": {
   "codemirror_mode": {
    "name": "ipython",
    "version": 3
   },
   "file_extension": ".py",
   "mimetype": "text/x-python",
   "name": "python",
   "nbconvert_exporter": "python",
   "pygments_lexer": "ipython3",
   "version": "3.8.10"
  },
  "orig_nbformat": 4,
  "vscode": {
   "interpreter": {
    "hash": "916dbcbb3f70747c44a77c7bcd40155683ae19c65e1c03b4aa3499c5328201f1"
   }
  }
 },
 "nbformat": 4,
 "nbformat_minor": 2
}
