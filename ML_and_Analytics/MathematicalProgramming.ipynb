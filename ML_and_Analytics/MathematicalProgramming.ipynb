{
 "cells": [
  {
   "cell_type": "code",
   "execution_count": 3,
   "metadata": {},
   "outputs": [
    {
     "name": "stdout",
     "output_type": "stream",
     "text": [
      "Minimized Value:  0.5000000005806078\n",
      "Optimal x1, x2:  [0.49998296 0.16667235]\n"
     ]
    }
   ],
   "source": [
    "#import the required libraries\n",
    "import numpy as np\n",
    "from scipy.optimize import minimize\n",
    "\n",
    "#define the objective function f = x1^2 + 9x2^2\n",
    "# x[0] means x1 and x[1] means x2\n",
    "def obj_func(x):\n",
    "    return x[0]**2 + 9*x[1]**2\n",
    "\n",
    "\n",
    "#Define the constraint function that \n",
    "# takes an array x as input and returns a list of constraints \n",
    "# 1st constraint, 2x1 + x2 -1 = 0\n",
    "#2nd constraint, x1+3x2-1 = 0\n",
    "def con_func(x):\n",
    "    return [2*x[0]+x[1]-1, x[0]+3*x[1]-1]\n",
    "\n",
    "\n",
    "#Define the constraints: We create a dictionary cons that defines \n",
    "# the type of constraints (inequality) and the constraint function con_func.\n",
    "\n",
    "\n",
    "cons = {'type': 'ineq', 'fun': con_func}\n",
    "\n",
    "#Define the initial guess: We create an initial guess x0 = [0, 0] for the values of x and y.\n",
    "\n",
    "x0 = [0, 0]\n",
    "\n",
    "\n",
    "#Minimize the objective function \n",
    "#We used the minimize function  from the scipy.optimize library to minimize the objective function subject to the constraints. \n",
    "# The function takes the objective function obj_func, the initial guess x0, the optimization method (in this case SLSQP), \n",
    "# the constraints cons, and bounds on x and y (x1 >=0 , x2 >=0).\n",
    "\n",
    "\n",
    "res = minimize(obj_func, x0, method='SLSQP', constraints=cons, bounds=[(0, None), (0, None)])\n",
    "\n",
    "#Now get the optimal value of the function\n",
    "print(\"Minimized Value: \", res.fun)\n",
    "\n",
    "#And optimal x1, x2\n",
    "print(\"Optimal x1, x2: \", res.x)\n"
   ]
  }
 ],
 "metadata": {
  "kernelspec": {
   "display_name": "base",
   "language": "python",
   "name": "python3"
  },
  "language_info": {
   "codemirror_mode": {
    "name": "ipython",
    "version": 3
   },
   "file_extension": ".py",
   "mimetype": "text/x-python",
   "name": "python",
   "nbconvert_exporter": "python",
   "pygments_lexer": "ipython3",
   "version": "3.7.6"
  },
  "orig_nbformat": 4,
  "vscode": {
   "interpreter": {
    "hash": "1448b48b023bcc9c3d4a79e814720a10ca6d4244f75e0f7ce4af58f96ba2b7d3"
   }
  }
 },
 "nbformat": 4,
 "nbformat_minor": 2
}
