{
 "cells": [
  {
   "cell_type": "code",
   "execution_count": 1,
   "metadata": {},
   "outputs": [
    {
     "name": "stdout",
     "output_type": "stream",
     "text": [
      "[95, 85, 88, 78]\n",
      "<class 'list'>\n",
      "<class 'int'>\n",
      "Mode of marks: [95, 85, 88, 78]\n",
      "Median of marks: 86.5\n",
      "Range of marks: 17\n"
     ]
    }
   ],
   "source": [
    "# open the file\n",
    "f = open(\"data.txt\", \"r\")\n",
    "\n",
    "#Extract the lines present in the file as a list\n",
    "lines = f.readlines()\n",
    "\n",
    "#create an empty list to store the marks\n",
    "marks = []\n",
    "\n",
    "#Extract lines from each line\n",
    "for i in range(1,len(lines)):  #start from the second line of the document as first line is the header.\n",
    "    line = lines[i]            # This will extract a partcular line\n",
    "    line_elements = line.split(\" \")    #Since the complete line is a string, let's split the string to get different elements in the string.\n",
    "    mark = line_elements[-1]      # the last element is the mark\n",
    "    marks.append(int(mark))  #mark was extracted from the line as a string but to calculate median and others we need as integer.\n",
    "\n",
    "#print the list of marks we created\n",
    "print(marks)\n",
    "\n",
    "print(type(marks))\n",
    "\n",
    "print(type(marks[1]))\n",
    "\n",
    "\n",
    "#define a function to calculate mode \n",
    "#for this we need the python inbuilt counter library\n",
    "from collections import Counter\n",
    "\n",
    "def returnMode(samples):\n",
    "    c = Counter(samples)\n",
    "    return [k for k, v in c.items() if v == c.most_common(1)[0][1]]\n",
    "\n",
    "\n",
    "#define a function to calculate median\n",
    "def returnMedian(numbers):\n",
    "    n = len(numbers)\n",
    "    numbers.sort()\n",
    "    if n% 2 == 0:\n",
    "        median1 = numbers[n//2 -1]\n",
    "        median2 = numbers[n//2]\n",
    "        median = (median1 + median2)/2\n",
    "    else:\n",
    "        median = numbers[n//2]\n",
    "    return median\n",
    "\n",
    "print(f'Mode of marks:',returnMode(marks))\n",
    "#for the data given here you will get all the numbers as mode beacuse when no number is repeating then all numbers are the modes.\n",
    "\n",
    "print(f'Median of marks:',returnMedian(marks))\n",
    "\n",
    "print('Range of marks:',max(marks)-min(marks))\n",
    "\n",
    "\n",
    "#Now close the file\n",
    "f.close()\n"
   ]
  },
  {
   "cell_type": "code",
   "execution_count": 3,
   "metadata": {},
   "outputs": [
    {
     "name": "stdout",
     "output_type": "stream",
     "text": [
      "[0.845, 0.886, 0.912, 0.913, 0.914, 0.919, 0.922, 0.939, 0.947, 0.958, 0.959]\n"
     ]
    }
   ],
   "source": [
    "l = [0.958, 0.914, 0.922, 0.845, 0.939 ,0.886, 0.913, 0.912, 0.959, 0.947 ,0.919]\n",
    "l.sort()\n",
    "print(l)"
   ]
  },
  {
   "cell_type": "code",
   "execution_count": 6,
   "metadata": {},
   "outputs": [
    {
     "data": {
      "text/plain": [
       "11"
      ]
     },
     "execution_count": 6,
     "metadata": {},
     "output_type": "execute_result"
    }
   ],
   "source": [
    "len(l)"
   ]
  },
  {
   "cell_type": "code",
   "execution_count": 13,
   "metadata": {},
   "outputs": [
    {
     "data": {
      "text/plain": [
       "0.9195"
      ]
     },
     "execution_count": 13,
     "metadata": {},
     "output_type": "execute_result"
    }
   ],
   "source": [
    "round(sum(l)/len(l),4)"
   ]
  },
  {
   "cell_type": "code",
   "execution_count": 14,
   "metadata": {},
   "outputs": [
    {
     "data": {
      "text/plain": [
       "0.0331"
      ]
     },
     "execution_count": 14,
     "metadata": {},
     "output_type": "execute_result"
    }
   ],
   "source": [
    "round(0.033146,4)"
   ]
  }
 ],
 "metadata": {
  "kernelspec": {
   "display_name": "Python 3.7.6 ('base')",
   "language": "python",
   "name": "python3"
  },
  "language_info": {
   "codemirror_mode": {
    "name": "ipython",
    "version": 3
   },
   "file_extension": ".py",
   "mimetype": "text/x-python",
   "name": "python",
   "nbconvert_exporter": "python",
   "pygments_lexer": "ipython3",
   "version": "3.7.6"
  },
  "orig_nbformat": 4,
  "vscode": {
   "interpreter": {
    "hash": "1448b48b023bcc9c3d4a79e814720a10ca6d4244f75e0f7ce4af58f96ba2b7d3"
   }
  }
 },
 "nbformat": 4,
 "nbformat_minor": 2
}
