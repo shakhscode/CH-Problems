{
 "cells": [
  {
   "cell_type": "code",
   "execution_count": 2,
   "metadata": {},
   "outputs": [],
   "source": [
    "# common imports\n",
    "import numpy as np\n",
    "import pandas as pd\n",
    "\n",
    "pd.set_option('display.max_columns', None)\n",
    "import warnings\n",
    "warnings.filterwarnings('ignore')"
   ]
  },
  {
   "cell_type": "markdown",
   "metadata": {},
   "source": [
    "Put the data set in the same directory where you jupyter notebook is and import the data set"
   ]
  },
  {
   "cell_type": "code",
   "execution_count": 3,
   "metadata": {},
   "outputs": [
    {
     "data": {
      "text/html": [
       "<div>\n",
       "<style scoped>\n",
       "    .dataframe tbody tr th:only-of-type {\n",
       "        vertical-align: middle;\n",
       "    }\n",
       "\n",
       "    .dataframe tbody tr th {\n",
       "        vertical-align: top;\n",
       "    }\n",
       "\n",
       "    .dataframe thead th {\n",
       "        text-align: right;\n",
       "    }\n",
       "</style>\n",
       "<table border=\"1\" class=\"dataframe\">\n",
       "  <thead>\n",
       "    <tr style=\"text-align: right;\">\n",
       "      <th></th>\n",
       "      <th>Example</th>\n",
       "      <th>Crust Shape</th>\n",
       "      <th>Crust Size</th>\n",
       "      <th>Crust Shade</th>\n",
       "      <th>Filling Size</th>\n",
       "      <th>Filling Shade</th>\n",
       "      <th>Class</th>\n",
       "    </tr>\n",
       "  </thead>\n",
       "  <tbody>\n",
       "    <tr>\n",
       "      <th>0</th>\n",
       "      <td>ex1</td>\n",
       "      <td>Circle</td>\n",
       "      <td>Thick</td>\n",
       "      <td>Gray</td>\n",
       "      <td>Thick</td>\n",
       "      <td>Dark</td>\n",
       "      <td>pos</td>\n",
       "    </tr>\n",
       "    <tr>\n",
       "      <th>1</th>\n",
       "      <td>ex2</td>\n",
       "      <td>Circle</td>\n",
       "      <td>Thick</td>\n",
       "      <td>White</td>\n",
       "      <td>Thick</td>\n",
       "      <td>Dark</td>\n",
       "      <td>pos</td>\n",
       "    </tr>\n",
       "    <tr>\n",
       "      <th>2</th>\n",
       "      <td>ex3</td>\n",
       "      <td>Triangle</td>\n",
       "      <td>Thick</td>\n",
       "      <td>Dark</td>\n",
       "      <td>Thick</td>\n",
       "      <td>Gray</td>\n",
       "      <td>pos</td>\n",
       "    </tr>\n",
       "    <tr>\n",
       "      <th>3</th>\n",
       "      <td>ex4</td>\n",
       "      <td>Circle</td>\n",
       "      <td>Thin</td>\n",
       "      <td>White</td>\n",
       "      <td>Thin</td>\n",
       "      <td>Dark</td>\n",
       "      <td>pos</td>\n",
       "    </tr>\n",
       "    <tr>\n",
       "      <th>4</th>\n",
       "      <td>ex5</td>\n",
       "      <td>Square</td>\n",
       "      <td>Thick</td>\n",
       "      <td>Dark</td>\n",
       "      <td>Thin</td>\n",
       "      <td>White</td>\n",
       "      <td>pos</td>\n",
       "    </tr>\n",
       "  </tbody>\n",
       "</table>\n",
       "</div>"
      ],
      "text/plain": [
       "  Example Crust Shape Crust Size Crust Shade Filling Size Filling Shade Class\n",
       "0     ex1      Circle      Thick        Gray        Thick          Dark   pos\n",
       "1     ex2      Circle      Thick       White        Thick          Dark   pos\n",
       "2     ex3    Triangle      Thick        Dark        Thick          Gray   pos\n",
       "3     ex4      Circle       Thin       White         Thin          Dark   pos\n",
       "4     ex5      Square      Thick        Dark         Thin         White   pos"
      ]
     },
     "execution_count": 3,
     "metadata": {},
     "output_type": "execute_result"
    }
   ],
   "source": [
    "fileName = \"JohnnyPiesData.csv\"\n",
    "#import the data and make a dataframe \n",
    "\n",
    "pie_df = pd.read_csv(fileName)\n",
    "\n",
    "#you can check whether it is imported or not by printing few rows\n",
    "pie_df.head()"
   ]
  },
  {
   "cell_type": "markdown",
   "metadata": {},
   "source": [
    "## Prepare the data for linear regression"
   ]
  },
  {
   "cell_type": "code",
   "execution_count": 4,
   "metadata": {},
   "outputs": [
    {
     "data": {
      "text/html": [
       "<div>\n",
       "<style scoped>\n",
       "    .dataframe tbody tr th:only-of-type {\n",
       "        vertical-align: middle;\n",
       "    }\n",
       "\n",
       "    .dataframe tbody tr th {\n",
       "        vertical-align: top;\n",
       "    }\n",
       "\n",
       "    .dataframe thead th {\n",
       "        text-align: right;\n",
       "    }\n",
       "</style>\n",
       "<table border=\"1\" class=\"dataframe\">\n",
       "  <thead>\n",
       "    <tr style=\"text-align: right;\">\n",
       "      <th></th>\n",
       "      <th>Crust Shape</th>\n",
       "      <th>Crust Size</th>\n",
       "      <th>Crust Shade</th>\n",
       "      <th>Filling Size</th>\n",
       "      <th>Filling Shade</th>\n",
       "      <th>Class</th>\n",
       "    </tr>\n",
       "  </thead>\n",
       "  <tbody>\n",
       "    <tr>\n",
       "      <th>0</th>\n",
       "      <td>Circle</td>\n",
       "      <td>Thick</td>\n",
       "      <td>Gray</td>\n",
       "      <td>Thick</td>\n",
       "      <td>Dark</td>\n",
       "      <td>pos</td>\n",
       "    </tr>\n",
       "    <tr>\n",
       "      <th>1</th>\n",
       "      <td>Circle</td>\n",
       "      <td>Thick</td>\n",
       "      <td>White</td>\n",
       "      <td>Thick</td>\n",
       "      <td>Dark</td>\n",
       "      <td>pos</td>\n",
       "    </tr>\n",
       "    <tr>\n",
       "      <th>2</th>\n",
       "      <td>Triangle</td>\n",
       "      <td>Thick</td>\n",
       "      <td>Dark</td>\n",
       "      <td>Thick</td>\n",
       "      <td>Gray</td>\n",
       "      <td>pos</td>\n",
       "    </tr>\n",
       "    <tr>\n",
       "      <th>3</th>\n",
       "      <td>Circle</td>\n",
       "      <td>Thin</td>\n",
       "      <td>White</td>\n",
       "      <td>Thin</td>\n",
       "      <td>Dark</td>\n",
       "      <td>pos</td>\n",
       "    </tr>\n",
       "    <tr>\n",
       "      <th>4</th>\n",
       "      <td>Square</td>\n",
       "      <td>Thick</td>\n",
       "      <td>Dark</td>\n",
       "      <td>Thin</td>\n",
       "      <td>White</td>\n",
       "      <td>pos</td>\n",
       "    </tr>\n",
       "  </tbody>\n",
       "</table>\n",
       "</div>"
      ],
      "text/plain": [
       "  Crust Shape Crust Size Crust Shade Filling Size Filling Shade Class\n",
       "0      Circle      Thick        Gray        Thick          Dark   pos\n",
       "1      Circle      Thick       White        Thick          Dark   pos\n",
       "2    Triangle      Thick        Dark        Thick          Gray   pos\n",
       "3      Circle       Thin       White         Thin          Dark   pos\n",
       "4      Square      Thick        Dark         Thin         White   pos"
      ]
     },
     "execution_count": 4,
     "metadata": {},
     "output_type": "execute_result"
    }
   ],
   "source": [
    "# drop the example column from the dataset\n",
    "pie_df.drop(['Example'], axis= 1, inplace= True)\n",
    "# axis = 1 refers columns\n",
    "#inplace = True means, update the dataframe after drop.\n",
    "\n",
    "#you can check now \n",
    "pie_df.head()\n",
    "#Now 'Example' column is not there."
   ]
  },
  {
   "cell_type": "markdown",
   "metadata": {},
   "source": [
    "#### One Hot Encoding using get_dummies()"
   ]
  },
  {
   "cell_type": "code",
   "execution_count": 5,
   "metadata": {},
   "outputs": [
    {
     "data": {
      "text/html": [
       "<div>\n",
       "<style scoped>\n",
       "    .dataframe tbody tr th:only-of-type {\n",
       "        vertical-align: middle;\n",
       "    }\n",
       "\n",
       "    .dataframe tbody tr th {\n",
       "        vertical-align: top;\n",
       "    }\n",
       "\n",
       "    .dataframe thead th {\n",
       "        text-align: right;\n",
       "    }\n",
       "</style>\n",
       "<table border=\"1\" class=\"dataframe\">\n",
       "  <thead>\n",
       "    <tr style=\"text-align: right;\">\n",
       "      <th></th>\n",
       "      <th>Crust Shape_Square</th>\n",
       "      <th>Crust Shape_Triangle</th>\n",
       "      <th>Crust Size_Thin</th>\n",
       "      <th>Crust Shade_Gray</th>\n",
       "      <th>Crust Shade_White</th>\n",
       "      <th>Filling Size_Thin</th>\n",
       "      <th>Filling Shade_Gray</th>\n",
       "      <th>Filling Shade_White</th>\n",
       "      <th>Class_pos</th>\n",
       "    </tr>\n",
       "  </thead>\n",
       "  <tbody>\n",
       "    <tr>\n",
       "      <th>0</th>\n",
       "      <td>0</td>\n",
       "      <td>0</td>\n",
       "      <td>0</td>\n",
       "      <td>1</td>\n",
       "      <td>0</td>\n",
       "      <td>0</td>\n",
       "      <td>0</td>\n",
       "      <td>0</td>\n",
       "      <td>1</td>\n",
       "    </tr>\n",
       "    <tr>\n",
       "      <th>1</th>\n",
       "      <td>0</td>\n",
       "      <td>0</td>\n",
       "      <td>0</td>\n",
       "      <td>0</td>\n",
       "      <td>1</td>\n",
       "      <td>0</td>\n",
       "      <td>0</td>\n",
       "      <td>0</td>\n",
       "      <td>1</td>\n",
       "    </tr>\n",
       "    <tr>\n",
       "      <th>2</th>\n",
       "      <td>0</td>\n",
       "      <td>1</td>\n",
       "      <td>0</td>\n",
       "      <td>0</td>\n",
       "      <td>0</td>\n",
       "      <td>0</td>\n",
       "      <td>1</td>\n",
       "      <td>0</td>\n",
       "      <td>1</td>\n",
       "    </tr>\n",
       "    <tr>\n",
       "      <th>3</th>\n",
       "      <td>0</td>\n",
       "      <td>0</td>\n",
       "      <td>1</td>\n",
       "      <td>0</td>\n",
       "      <td>1</td>\n",
       "      <td>1</td>\n",
       "      <td>0</td>\n",
       "      <td>0</td>\n",
       "      <td>1</td>\n",
       "    </tr>\n",
       "    <tr>\n",
       "      <th>4</th>\n",
       "      <td>1</td>\n",
       "      <td>0</td>\n",
       "      <td>0</td>\n",
       "      <td>0</td>\n",
       "      <td>0</td>\n",
       "      <td>1</td>\n",
       "      <td>0</td>\n",
       "      <td>1</td>\n",
       "      <td>1</td>\n",
       "    </tr>\n",
       "    <tr>\n",
       "      <th>5</th>\n",
       "      <td>0</td>\n",
       "      <td>0</td>\n",
       "      <td>0</td>\n",
       "      <td>0</td>\n",
       "      <td>1</td>\n",
       "      <td>1</td>\n",
       "      <td>0</td>\n",
       "      <td>0</td>\n",
       "      <td>1</td>\n",
       "    </tr>\n",
       "    <tr>\n",
       "      <th>6</th>\n",
       "      <td>0</td>\n",
       "      <td>0</td>\n",
       "      <td>0</td>\n",
       "      <td>1</td>\n",
       "      <td>0</td>\n",
       "      <td>0</td>\n",
       "      <td>0</td>\n",
       "      <td>1</td>\n",
       "      <td>0</td>\n",
       "    </tr>\n",
       "    <tr>\n",
       "      <th>7</th>\n",
       "      <td>1</td>\n",
       "      <td>0</td>\n",
       "      <td>0</td>\n",
       "      <td>0</td>\n",
       "      <td>1</td>\n",
       "      <td>0</td>\n",
       "      <td>1</td>\n",
       "      <td>0</td>\n",
       "      <td>0</td>\n",
       "    </tr>\n",
       "    <tr>\n",
       "      <th>8</th>\n",
       "      <td>0</td>\n",
       "      <td>1</td>\n",
       "      <td>1</td>\n",
       "      <td>1</td>\n",
       "      <td>0</td>\n",
       "      <td>1</td>\n",
       "      <td>0</td>\n",
       "      <td>0</td>\n",
       "      <td>0</td>\n",
       "    </tr>\n",
       "    <tr>\n",
       "      <th>9</th>\n",
       "      <td>0</td>\n",
       "      <td>0</td>\n",
       "      <td>0</td>\n",
       "      <td>0</td>\n",
       "      <td>0</td>\n",
       "      <td>0</td>\n",
       "      <td>0</td>\n",
       "      <td>1</td>\n",
       "      <td>0</td>\n",
       "    </tr>\n",
       "    <tr>\n",
       "      <th>10</th>\n",
       "      <td>1</td>\n",
       "      <td>0</td>\n",
       "      <td>0</td>\n",
       "      <td>0</td>\n",
       "      <td>1</td>\n",
       "      <td>0</td>\n",
       "      <td>0</td>\n",
       "      <td>0</td>\n",
       "      <td>0</td>\n",
       "    </tr>\n",
       "    <tr>\n",
       "      <th>11</th>\n",
       "      <td>0</td>\n",
       "      <td>1</td>\n",
       "      <td>0</td>\n",
       "      <td>0</td>\n",
       "      <td>1</td>\n",
       "      <td>0</td>\n",
       "      <td>1</td>\n",
       "      <td>0</td>\n",
       "      <td>0</td>\n",
       "    </tr>\n",
       "  </tbody>\n",
       "</table>\n",
       "</div>"
      ],
      "text/plain": [
       "    Crust Shape_Square  Crust Shape_Triangle  Crust Size_Thin  \\\n",
       "0                    0                     0                0   \n",
       "1                    0                     0                0   \n",
       "2                    0                     1                0   \n",
       "3                    0                     0                1   \n",
       "4                    1                     0                0   \n",
       "5                    0                     0                0   \n",
       "6                    0                     0                0   \n",
       "7                    1                     0                0   \n",
       "8                    0                     1                1   \n",
       "9                    0                     0                0   \n",
       "10                   1                     0                0   \n",
       "11                   0                     1                0   \n",
       "\n",
       "    Crust Shade_Gray  Crust Shade_White  Filling Size_Thin  \\\n",
       "0                  1                  0                  0   \n",
       "1                  0                  1                  0   \n",
       "2                  0                  0                  0   \n",
       "3                  0                  1                  1   \n",
       "4                  0                  0                  1   \n",
       "5                  0                  1                  1   \n",
       "6                  1                  0                  0   \n",
       "7                  0                  1                  0   \n",
       "8                  1                  0                  1   \n",
       "9                  0                  0                  0   \n",
       "10                 0                  1                  0   \n",
       "11                 0                  1                  0   \n",
       "\n",
       "    Filling Shade_Gray  Filling Shade_White  Class_pos  \n",
       "0                    0                    0          1  \n",
       "1                    0                    0          1  \n",
       "2                    1                    0          1  \n",
       "3                    0                    0          1  \n",
       "4                    0                    1          1  \n",
       "5                    0                    0          1  \n",
       "6                    0                    1          0  \n",
       "7                    1                    0          0  \n",
       "8                    0                    0          0  \n",
       "9                    0                    1          0  \n",
       "10                   0                    0          0  \n",
       "11                   1                    0          0  "
      ]
     },
     "execution_count": 5,
     "metadata": {},
     "output_type": "execute_result"
    }
   ],
   "source": [
    "pie_df_encoded = pd.get_dummies(pie_df,drop_first=True)\n",
    "\n",
    "#you can check the encoded data\n",
    "pie_df_encoded"
   ]
  },
  {
   "cell_type": "markdown",
   "metadata": {},
   "source": [
    "#### Extract the features "
   ]
  },
  {
   "cell_type": "code",
   "execution_count": 6,
   "metadata": {},
   "outputs": [
    {
     "name": "stdout",
     "output_type": "stream",
     "text": [
      "<class 'pandas.core.frame.DataFrame'>\n",
      "<class 'numpy.uint8'>\n"
     ]
    }
   ],
   "source": [
    "features = pie_df_encoded.iloc[:,0:-1]  #extract untill the second last column\n",
    "\n",
    "# check the type of features\n",
    "print(type(features))\n",
    "\n",
    "print(type(features.iloc[2,3]))"
   ]
  },
  {
   "cell_type": "markdown",
   "metadata": {},
   "source": [
    "#### Extract the class labels as response"
   ]
  },
  {
   "cell_type": "code",
   "execution_count": 7,
   "metadata": {},
   "outputs": [
    {
     "name": "stdout",
     "output_type": "stream",
     "text": [
      "<class 'pandas.core.series.Series'>\n",
      "<class 'pandas.core.frame.DataFrame'>\n"
     ]
    }
   ],
   "source": [
    "response = pie_df_encoded.iloc[:,-1]\n",
    "\n",
    "#check the type\n",
    "print(type(response))\n",
    "\n",
    "#Since it is a series, convert it into a dataframe\n",
    "response = pd.DataFrame(response)\n",
    "\n",
    "#Now check the type\n",
    "print(type(response))"
   ]
  },
  {
   "cell_type": "markdown",
   "metadata": {},
   "source": [
    "## Perform Linear Regression model fitting"
   ]
  },
  {
   "cell_type": "code",
   "execution_count": 8,
   "metadata": {},
   "outputs": [
    {
     "data": {
      "text/plain": [
       "LinearRegression()"
      ]
     },
     "execution_count": 8,
     "metadata": {},
     "output_type": "execute_result"
    }
   ],
   "source": [
    "# import the LinearRegression class\n",
    "from sklearn.linear_model import LinearRegression\n",
    "\n",
    "# define a model\n",
    "reg_model = LinearRegression()\n",
    "\n",
    "#train the model\n",
    "reg_model.fit(features,response)"
   ]
  },
  {
   "cell_type": "markdown",
   "metadata": {},
   "source": [
    "## Examine Linear Regression Model Parameters"
   ]
  },
  {
   "cell_type": "code",
   "execution_count": 9,
   "metadata": {},
   "outputs": [
    {
     "name": "stdout",
     "output_type": "stream",
     "text": [
      "Coefficients of the Linear Regression model: \n",
      " [[-0.52586207 -0.83189655 -0.56465517 -0.63793103 -0.92672414  0.70258621\n",
      "   0.12068966 -1.07327586]]\n",
      "Intercept of the Linear Regression model: \n",
      " [1.56034483]\n"
     ]
    }
   ],
   "source": [
    "# view the coefficients of the regression model\n",
    "print(f'Coefficients of the Linear Regression model: \\n {reg_model.coef_}')\n",
    "\n",
    "# view the intercepts of the regression model\n",
    "print(f'Intercept of the Linear Regression model: \\n {reg_model.intercept_}')\n"
   ]
  },
  {
   "cell_type": "markdown",
   "metadata": {},
   "source": [
    "## Making Predictions using the Linear Regression Model"
   ]
  },
  {
   "cell_type": "code",
   "execution_count": 10,
   "metadata": {},
   "outputs": [
    {
     "name": "stdout",
     "output_type": "stream",
     "text": [
      "<class 'numpy.ndarray'>\n"
     ]
    }
   ],
   "source": [
    "# predict outputs for the training features\n",
    "preds = reg_model.predict(features)\n",
    "\n",
    "# check the data type of preds\n",
    "print(type(preds))"
   ]
  },
  {
   "cell_type": "markdown",
   "metadata": {},
   "source": [
    "#### Response Comparision"
   ]
  },
  {
   "cell_type": "code",
   "execution_count": 11,
   "metadata": {},
   "outputs": [
    {
     "data": {
      "text/html": [
       "<div>\n",
       "<style scoped>\n",
       "    .dataframe tbody tr th:only-of-type {\n",
       "        vertical-align: middle;\n",
       "    }\n",
       "\n",
       "    .dataframe tbody tr th {\n",
       "        vertical-align: top;\n",
       "    }\n",
       "\n",
       "    .dataframe thead th {\n",
       "        text-align: right;\n",
       "    }\n",
       "</style>\n",
       "<table border=\"1\" class=\"dataframe\">\n",
       "  <thead>\n",
       "    <tr style=\"text-align: right;\">\n",
       "      <th></th>\n",
       "      <th>Class_pos</th>\n",
       "      <th>Regression_Predictions</th>\n",
       "      <th>Predicted_Responses</th>\n",
       "    </tr>\n",
       "  </thead>\n",
       "  <tbody>\n",
       "    <tr>\n",
       "      <th>0</th>\n",
       "      <td>1</td>\n",
       "      <td>0.922414</td>\n",
       "      <td>1</td>\n",
       "    </tr>\n",
       "    <tr>\n",
       "      <th>1</th>\n",
       "      <td>1</td>\n",
       "      <td>0.633621</td>\n",
       "      <td>1</td>\n",
       "    </tr>\n",
       "    <tr>\n",
       "      <th>2</th>\n",
       "      <td>1</td>\n",
       "      <td>0.849138</td>\n",
       "      <td>1</td>\n",
       "    </tr>\n",
       "    <tr>\n",
       "      <th>3</th>\n",
       "      <td>1</td>\n",
       "      <td>0.771552</td>\n",
       "      <td>1</td>\n",
       "    </tr>\n",
       "    <tr>\n",
       "      <th>4</th>\n",
       "      <td>1</td>\n",
       "      <td>0.663793</td>\n",
       "      <td>1</td>\n",
       "    </tr>\n",
       "    <tr>\n",
       "      <th>5</th>\n",
       "      <td>1</td>\n",
       "      <td>1.336207</td>\n",
       "      <td>1</td>\n",
       "    </tr>\n",
       "    <tr>\n",
       "      <th>6</th>\n",
       "      <td>0</td>\n",
       "      <td>-0.150862</td>\n",
       "      <td>0</td>\n",
       "    </tr>\n",
       "    <tr>\n",
       "      <th>7</th>\n",
       "      <td>0</td>\n",
       "      <td>0.228448</td>\n",
       "      <td>0</td>\n",
       "    </tr>\n",
       "    <tr>\n",
       "      <th>8</th>\n",
       "      <td>0</td>\n",
       "      <td>0.228448</td>\n",
       "      <td>0</td>\n",
       "    </tr>\n",
       "    <tr>\n",
       "      <th>9</th>\n",
       "      <td>0</td>\n",
       "      <td>0.487069</td>\n",
       "      <td>0</td>\n",
       "    </tr>\n",
       "    <tr>\n",
       "      <th>10</th>\n",
       "      <td>0</td>\n",
       "      <td>0.107759</td>\n",
       "      <td>0</td>\n",
       "    </tr>\n",
       "    <tr>\n",
       "      <th>11</th>\n",
       "      <td>0</td>\n",
       "      <td>-0.077586</td>\n",
       "      <td>0</td>\n",
       "    </tr>\n",
       "  </tbody>\n",
       "</table>\n",
       "</div>"
      ],
      "text/plain": [
       "    Class_pos  Regression_Predictions  Predicted_Responses\n",
       "0           1                0.922414                    1\n",
       "1           1                0.633621                    1\n",
       "2           1                0.849138                    1\n",
       "3           1                0.771552                    1\n",
       "4           1                0.663793                    1\n",
       "5           1                1.336207                    1\n",
       "6           0               -0.150862                    0\n",
       "7           0                0.228448                    0\n",
       "8           0                0.228448                    0\n",
       "9           0                0.487069                    0\n",
       "10          0                0.107759                    0\n",
       "11          0               -0.077586                    0"
      ]
     },
     "execution_count": 11,
     "metadata": {},
     "output_type": "execute_result"
    }
   ],
   "source": [
    "# resp_comp = Response Comparision\n",
    "\n",
    "resp_comp = response.copy()\n",
    "\n",
    "reg_outputs = [float(reg_model.predict(np.reshape(row,(1,-1)))) for row in features.itertuples(index=False) ]  \n",
    "#in the picture you uploaded, the last few words after feature.i____ are missing. Please check your origin picture and enter whatever was there. \n",
    "#Except this everything is okay and the provided solution will work.\n",
    "\n",
    "predicted_resp = np.array([1 if reg_output > 0.5 else 0 for reg_output in reg_outputs])\n",
    "\n",
    "resp_comp = resp_comp.assign(Regression_Predictions = reg_outputs )\n",
    "\n",
    "resp_comp = resp_comp.assign(Predicted_Responses = predicted_resp)\n",
    "\n",
    "resp_comp"
   ]
  },
  {
   "cell_type": "markdown",
   "metadata": {},
   "source": [
    "## Calculate model accuracy"
   ]
  },
  {
   "cell_type": "code",
   "execution_count": 12,
   "metadata": {},
   "outputs": [
    {
     "name": "stdout",
     "output_type": "stream",
     "text": [
      "Predictions:\n",
      " [[ 0.92241379]\n",
      " [ 0.63362069]\n",
      " [ 0.84913793]\n",
      " [ 0.77155172]\n",
      " [ 0.6637931 ]\n",
      " [ 1.3362069 ]\n",
      " [-0.15086207]\n",
      " [ 0.22844828]\n",
      " [ 0.22844828]\n",
      " [ 0.48706897]\n",
      " [ 0.10775862]\n",
      " [-0.07758621]]\n",
      "Actual labels: \n",
      "     Class_pos\n",
      "0           1\n",
      "1           1\n",
      "2           1\n",
      "3           1\n",
      "4           1\n",
      "5           1\n",
      "6           0\n",
      "7           0\n",
      "8           0\n",
      "9           0\n",
      "10          0\n",
      "11          0\n"
     ]
    }
   ],
   "source": [
    "# import the accuracy_score() from sklearn\n",
    "from sklearn.metrics import accuracy_score\n",
    "\n",
    "# calculate the accuracy score \n",
    "# Following is the syntax to get the accuracy.\n",
    "# acc_score = accuracy_score(y_pred = preds, y_true= response)\n",
    "\n",
    "#But to calculate accuracy by this formula both 'preds' and 'response' must need to be in the same format.\n",
    "\n",
    "# Lets check their format\n",
    "print('Predictions:\\n',preds)\n",
    "\n",
    "print('Actual labels: \\n', response)"
   ]
  },
  {
   "cell_type": "code",
   "execution_count": 13,
   "metadata": {},
   "outputs": [],
   "source": [
    "# As we can see predictions are just the numerical regression outputs. But we need them as  class lables to compare with the actual class labels.\n",
    "\n",
    "# So lets convert the numerical regression output into class label as \n",
    "# if numerical_output > 0.5 then class = 1 otherwise class = 0\n",
    "preds = np.array([1 if numerical_output > 0.5 else 0 for numerical_output in preds])"
   ]
  },
  {
   "cell_type": "code",
   "execution_count": 14,
   "metadata": {},
   "outputs": [
    {
     "name": "stdout",
     "output_type": "stream",
     "text": [
      "Accuracy Score of the model is: 1.0 \n"
     ]
    }
   ],
   "source": [
    "# Now calculate the accuracy score\n",
    "acc_score = accuracy_score(y_pred = preds, y_true= response)\n",
    "\n",
    "print(f'Accuracy Score of the model is: {acc_score} ')"
   ]
  }
 ],
 "metadata": {
  "kernelspec": {
   "display_name": "Python 3.7.6 ('base')",
   "language": "python",
   "name": "python3"
  },
  "language_info": {
   "codemirror_mode": {
    "name": "ipython",
    "version": 3
   },
   "file_extension": ".py",
   "mimetype": "text/x-python",
   "name": "python",
   "nbconvert_exporter": "python",
   "pygments_lexer": "ipython3",
   "version": "3.7.6 (default, Jan  8 2020, 19:59:22) \n[GCC 7.3.0]"
  },
  "orig_nbformat": 4,
  "vscode": {
   "interpreter": {
    "hash": "1448b48b023bcc9c3d4a79e814720a10ca6d4244f75e0f7ce4af58f96ba2b7d3"
   }
  }
 },
 "nbformat": 4,
 "nbformat_minor": 2
}
