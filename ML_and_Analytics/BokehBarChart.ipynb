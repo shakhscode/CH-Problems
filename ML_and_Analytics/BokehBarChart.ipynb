{
 "cells": [
  {
   "cell_type": "code",
   "execution_count": 3,
   "metadata": {},
   "outputs": [],
   "source": [
    "from bokeh.io import output_file, show\n",
    "from bokeh.plotting import figure"
   ]
  },
  {
   "cell_type": "code",
   "execution_count": 4,
   "metadata": {},
   "outputs": [],
   "source": [
    "#data\n",
    "Student_Percentage = ['35%', '19%', '20%', '10%', '9%', '7%']\n",
    "Years = [4, 5, 6, 7, 8, 9]\n",
    "\n",
    "# chart\n",
    "barChart = figure(x_range= Student_Percentage, height=500, title=\"Number of Years towards Graduation\",\n",
    "          toolbar_location=None, x_axis_label = 'Student Percentage', y_axis_label = 'Years', tools=\"\")\n",
    "\n",
    "barChart.vbar(x=Student_Percentage, top=Years, width=0.70, color = '#7c0ce7', legend_label = 'Student Percentage')\n",
    "barChart.legend.location = 'top_left'\n",
    "\n",
    "barChart.xgrid.grid_line_color = None\n",
    "barChart.y_range.start = 0\n",
    "barChart.yaxis.major_label_text_color = None\n",
    "barChart.yaxis.major_tick_line_color = None\n",
    "barChart.ygrid.grid_line_color = None\n",
    "barChart.outline_line_color = None"
   ]
  },
  {
   "cell_type": "code",
   "execution_count": 5,
   "metadata": {},
   "outputs": [],
   "source": [
    "show(barChart)"
   ]
  },
  {
   "cell_type": "code",
   "execution_count": null,
   "metadata": {},
   "outputs": [],
   "source": []
  },
  {
   "cell_type": "code",
   "execution_count": null,
   "metadata": {},
   "outputs": [],
   "source": []
  },
  {
   "cell_type": "code",
   "execution_count": null,
   "metadata": {},
   "outputs": [],
   "source": []
  }
 ],
 "metadata": {
  "kernelspec": {
   "display_name": "Python 3.7.6 ('base')",
   "language": "python",
   "name": "python3"
  },
  "language_info": {
   "codemirror_mode": {
    "name": "ipython",
    "version": 3
   },
   "file_extension": ".py",
   "mimetype": "text/x-python",
   "name": "python",
   "nbconvert_exporter": "python",
   "pygments_lexer": "ipython3",
   "version": "3.7.6"
  },
  "orig_nbformat": 4,
  "vscode": {
   "interpreter": {
    "hash": "1448b48b023bcc9c3d4a79e814720a10ca6d4244f75e0f7ce4af58f96ba2b7d3"
   }
  }
 },
 "nbformat": 4,
 "nbformat_minor": 2
}
