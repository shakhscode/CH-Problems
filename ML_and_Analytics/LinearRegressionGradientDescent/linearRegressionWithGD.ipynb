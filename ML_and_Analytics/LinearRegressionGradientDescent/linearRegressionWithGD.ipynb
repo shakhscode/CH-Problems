{
 "cells": [
  {
   "cell_type": "code",
   "execution_count": 1,
   "metadata": {},
   "outputs": [],
   "source": [
    "#import numpy as we need it for some calculations\n",
    "import numpy as np"
   ]
  },
  {
   "attachments": {},
   "cell_type": "markdown",
   "metadata": {},
   "source": [
    "# Write a function to read the data\n",
    "\n",
    "Read the data from the txt file and return as a 2D array where first column = x data,\n",
    "second column = y data and (x,y) represents a single data point"
   ]
  },
  {
   "cell_type": "code",
   "execution_count": 2,
   "metadata": {},
   "outputs": [],
   "source": [
    "def readData(fileName):\n",
    "\n",
    "    #open the file with read access\n",
    "    f = open(fileName,'r')\n",
    "\n",
    "    data =[]\n",
    "   \n",
    "    #extract the data and form [x, y] data point form each line\n",
    "    for line in f.readlines():\n",
    "        line = line.rstrip()\n",
    "        line = line.split(sep=\" \")\n",
    "        #as they are read as strings convert them into float and int respectively \n",
    "        line[0] = float(line[0])\n",
    "        line[1] = int(line[1])\n",
    "    \n",
    "        data.append(line)\n",
    "\n",
    "    return np.array(data, dtype=float)"
   ]
  },
  {
   "attachments": {},
   "cell_type": "markdown",
   "metadata": {},
   "source": [
    "### 2) Define the predict function"
   ]
  },
  {
   "cell_type": "code",
   "execution_count": 3,
   "metadata": {},
   "outputs": [],
   "source": [
    "def predict(x,betas):\n",
    "    # give x as a column vector\n",
    "    # betas = list of beta_0 and beta_1\n",
    "\n",
    "    b0 = betas[0]\n",
    "    b1 = betas[1]\n",
    "\n",
    "    ycap = b0 + b1*x\n",
    "\n",
    "    return ycap\n",
    "    #so this function will return a column vector of ycap"
   ]
  },
  {
   "attachments": {},
   "cell_type": "markdown",
   "metadata": {},
   "source": [
    "### 3) Define the loss function"
   ]
  },
  {
   "cell_type": "code",
   "execution_count": 4,
   "metadata": {},
   "outputs": [],
   "source": [
    "def loss(x,y,betas):\n",
    "    # give x anf y as column vectors\n",
    "\n",
    "    #get prediction using predict function\n",
    "    y_predicted = predict(x=x,betas=betas)\n",
    "\n",
    "    #now calculate the residuals in prediction\n",
    "    residuals = np.subtract(y,y_predicted)\n",
    "\n",
    "    #calculate the loss\n",
    "    loss = (1/(len(x)))*np.sum(residuals)\n",
    "\n",
    "    #rerun loss\n",
    "    return loss"
   ]
  },
  {
   "attachments": {},
   "cell_type": "markdown",
   "metadata": {},
   "source": [
    "### 4. Define the gradient function"
   ]
  },
  {
   "attachments": {},
   "cell_type": "markdown",
   "metadata": {},
   "source": [
    "Gradients are given as\n",
    "$$ \\frac{\\partial L}{\\partial \\beta_0} = \\frac{2}{n}\\sum_{i=1}^{n}(\\hat{y}_i - y_i) $$\n",
    "And\n",
    "$$ \\frac{\\partial L}{\\partial \\beta_1} = \\frac{2}{n}\\sum_{i=1}^{n}(\\hat{y}_i - y_i)x_i $$\n"
   ]
  },
  {
   "cell_type": "code",
   "execution_count": 5,
   "metadata": {},
   "outputs": [],
   "source": [
    "def gradient(x,y,betas):\n",
    "    #give x, y in column vector form\n",
    "    #first predict the ycap using predict function\n",
    "    y_predicted = predict(x=x,betas=betas)\n",
    "\n",
    "    #now calculate the gradients\n",
    "    d_b0 = (2/len(x))*(np.sum(np.subtract(y_predicted, y)))\n",
    "\n",
    "    d_b1=(2/len(x))*np.sum(np.multiply(np.subtract(y_predicted,y),x))\n",
    "    \n",
    "    return d_b0,d_b1"
   ]
  },
  {
   "attachments": {},
   "cell_type": "markdown",
   "metadata": {},
   "source": [
    "### Define the  train function"
   ]
  },
  {
   "cell_type": "code",
   "execution_count": 6,
   "metadata": {},
   "outputs": [],
   "source": [
    "def train(data,lr, iterations):\n",
    "    #data is a 2D numpy array\n",
    "    # lr = learning rate\n",
    "    # iterations = number of iterations\n",
    "\n",
    "\n",
    "    #separate x data and y data \n",
    "    x = data[:,0]\n",
    "    y = data[:,1]\n",
    "     \n",
    "    #first initialize some beta values\n",
    "    beta_values = [0,0]\n",
    "\n",
    "    #predict y values, calculate loss and update the beta values for each iteration\n",
    "    for i in range(iterations):\n",
    "\n",
    "        #predict using these beta values\n",
    "        y_predicted = predict(x=x,betas=beta_values)\n",
    " \n",
    "        \n",
    "\n",
    "        #get the gradients \n",
    "        b0_gradient, b1_gradient = gradient(x,y,beta_values)\n",
    "        \n",
    "        #update b0\n",
    "        beta_values[0] =  beta_values[0] - b0_gradient*lr\n",
    "\n",
    "        #update b1 \n",
    "        beta_values[1] = beta_values[1] - b1_gradient*lr\n",
    "    \n",
    "    #finally returns the betas vector with the last updated values\n",
    "    return beta_values\n"
   ]
  },
  {
   "attachments": {},
   "cell_type": "markdown",
   "metadata": {},
   "source": [
    "### 6) Implement the algorithm for different values\n"
   ]
  },
  {
   "attachments": {},
   "cell_type": "markdown",
   "metadata": {},
   "source": [
    "First import the data using the ```readData()``` function"
   ]
  },
  {
   "cell_type": "code",
   "execution_count": 7,
   "metadata": {},
   "outputs": [
    {
     "data": {
      "text/plain": [
       "array([[ 1.3, 90. ],\n",
       "       [ 1.5, 89. ],\n",
       "       [ 2. , 89. ],\n",
       "       [ 2.2, 85. ]])"
      ]
     },
     "execution_count": 7,
     "metadata": {},
     "output_type": "execute_result"
    }
   ],
   "source": [
    "fileName = 'numCigsAgeAtDeath.txt'\n",
    "data = readData(fileName)\n",
    "#print first 5 lines to check\n",
    "data[1:5,:]"
   ]
  },
  {
   "attachments": {},
   "cell_type": "markdown",
   "metadata": {},
   "source": [
    "### Now apply the algorithm and test it for x = 8"
   ]
  },
  {
   "attachments": {},
   "cell_type": "markdown",
   "metadata": {},
   "source": [
    "1) Learning Rate = 0.01, iterations = 1000"
   ]
  },
  {
   "cell_type": "code",
   "execution_count": 8,
   "metadata": {},
   "outputs": [
    {
     "name": "stdout",
     "output_type": "stream",
     "text": [
      "Intercept: 92.15406746303498,\n",
      "Coefficient: -3.072793770088807\n",
      "Total error or loss: 0.2976954951258815\n",
      "Age at Death for 8 cigarettes/day:67.57171730232452 \n"
     ]
    }
   ],
   "source": [
    "# train the model and get the beta values\n",
    "optimal_betas = train(data,lr=0.01,iterations=1000)\n",
    "print(f'Intercept: {optimal_betas[0]},\\nCoefficient: {optimal_betas[1]}')\n",
    "# get the loss\n",
    "print(f'Total error or loss: {loss(x=data[:,0],y=data[:,1],betas=optimal_betas)}')\n",
    "\n",
    "#Predict y for x = 8\n",
    "x_test = 8\n",
    "print(f'Age at Death for {x_test} cigarettes/day:{predict(x=x_test,betas=optimal_betas)} ')\n"
   ]
  },
  {
   "attachments": {},
   "cell_type": "markdown",
   "metadata": {},
   "source": [
    "2) Learning Rate = 0.01, iterations = 5000"
   ]
  },
  {
   "cell_type": "code",
   "execution_count": 9,
   "metadata": {},
   "outputs": [
    {
     "name": "stdout",
     "output_type": "stream",
     "text": [
      "Intercept: 93.58859029797267, \n",
      "Coefficient: -3.2988673923272045\n",
      "Total error or loss: 1.7729841975519126e-08\n",
      "Age at Death for 8 cigarettes/day:67.19765115935503 \n"
     ]
    }
   ],
   "source": [
    "# train the model and get the beta values\n",
    "optimal_betas = train(data,lr=0.01,iterations=5000)\n",
    "print(f'Intercept: {optimal_betas[0]}, \\nCoefficient: {optimal_betas[1]}')\n",
    "# get the loss\n",
    "print(f'Total error or loss: {loss(x=data[:,0],y=data[:,1],betas=optimal_betas)}')\n",
    "\n",
    "#Predict y for x = 8\n",
    "x_test = 8\n",
    "print(f'Age at Death for {x_test} cigarettes/day:{predict(x=x_test,betas=optimal_betas)} ')\n",
    "\n",
    "#we got infinity and a warning  becasue at this learning rate\n",
    "# and iterations the optimal beta values are too small.\n"
   ]
  },
  {
   "attachments": {},
   "cell_type": "markdown",
   "metadata": {},
   "source": [
    "3) Learning Rate = 0.01, iterations = 10000"
   ]
  },
  {
   "cell_type": "code",
   "execution_count": 10,
   "metadata": {},
   "outputs": [
    {
     "name": "stdout",
     "output_type": "stream",
     "text": [
      "Intercept: 93.58859038340687, \n",
      "Coefficient: -3.2988674057912086\n",
      "Total error or loss: 3.5400254156619276e-13\n",
      "Age at Death for 8 cigarettes/day:67.1976511370772 \n"
     ]
    }
   ],
   "source": [
    "# train the model and get the beta values\n",
    "optimal_betas = train(data,lr=0.01,iterations=10000)\n",
    "print(f'Intercept: {optimal_betas[0]}, \\nCoefficient: {optimal_betas[1]}')\n",
    "# get the loss\n",
    "print(f'Total error or loss: {loss(x=data[:,0],y=data[:,1],betas=optimal_betas)}')\n",
    "\n",
    "#Predict y for x = 8\n",
    "x_test = 8\n",
    "print(f'Age at Death for {x_test} cigarettes/day:{predict(x=x_test,betas=optimal_betas)} ')\n",
    "\n",
    "#we got infinity and a warning  becasue at this learning rate\n",
    "# and iterations the optimal beta values are too small."
   ]
  },
  {
   "attachments": {},
   "cell_type": "markdown",
   "metadata": {},
   "source": [
    "4) Learning Rate = 0.001, iterations = 1000"
   ]
  },
  {
   "cell_type": "code",
   "execution_count": 11,
   "metadata": {},
   "outputs": [
    {
     "name": "stdout",
     "output_type": "stream",
     "text": [
      "Intercept: 32.95890820992071, \n",
      "Coefficient: 6.256067190086572\n",
      "Total error or loss: 12.582011062786815\n",
      "Age at Death for 8 cigarettes/day:83.00744573061328 \n"
     ]
    }
   ],
   "source": [
    "# train the model and get the beta values\n",
    "optimal_betas = train(data,lr=0.001,iterations=1000)\n",
    "print(f'Intercept: {optimal_betas[0]}, \\nCoefficient: {optimal_betas[1]}')\n",
    "# get the loss\n",
    "print(f'Total error or loss: {loss(x=data[:,0],y=data[:,1],betas=optimal_betas)}')\n",
    "\n",
    "#Predict y for x = 8\n",
    "x_test = 8\n",
    "print(f'Age at Death for {x_test} cigarettes/day:{predict(x=x_test,betas=optimal_betas)} ')\n"
   ]
  },
  {
   "attachments": {},
   "cell_type": "markdown",
   "metadata": {},
   "source": [
    "5) Learning Rate = 0.001, iterations = 5000"
   ]
  },
  {
   "cell_type": "code",
   "execution_count": 12,
   "metadata": {},
   "outputs": [
    {
     "name": "stdout",
     "output_type": "stream",
     "text": [
      "Intercept: 82.06655223087886, \n",
      "Coefficient: -1.483051834738159\n",
      "Total error or loss: 2.391079852375885\n",
      "Age at Death for 8 cigarettes/day:70.20213755297358 \n"
     ]
    }
   ],
   "source": [
    "# train the model and get the beta values\n",
    "optimal_betas = train(data,lr=0.001,iterations=5000)\n",
    "print(f'Intercept: {optimal_betas[0]}, \\nCoefficient: {optimal_betas[1]}')\n",
    "# get the loss\n",
    "print(f'Total error or loss: {loss(x=data[:,0],y=data[:,1],betas=optimal_betas)}')\n",
    "\n",
    "#Predict y for x = 8\n",
    "x_test = 8\n",
    "print(f'Age at Death for {x_test} cigarettes/day:{predict(x=x_test,betas=optimal_betas)} ')"
   ]
  },
  {
   "attachments": {},
   "cell_type": "markdown",
   "metadata": {},
   "source": [
    "6) Learning Rate = 0.001, iterations = 10000"
   ]
  },
  {
   "cell_type": "code",
   "execution_count": 13,
   "metadata": {},
   "outputs": [
    {
     "name": "stdout",
     "output_type": "stream",
     "text": [
      "Intercept: 92.142869912192, \n",
      "Coefficient: -3.0710290920944123\n",
      "Total error or loss: 0.30001923662561886\n",
      "Age at Death for 8 cigarettes/day:67.57463717543669 \n"
     ]
    }
   ],
   "source": [
    "# train the model and get the beta values\n",
    "optimal_betas = train(data,lr=0.001,iterations=10000)\n",
    "print(f'Intercept: {optimal_betas[0]}, \\nCoefficient: {optimal_betas[1]}')\n",
    "# get the loos\n",
    "print(f'Total error or loss: {loss(x=data[:,0],y=data[:,1],betas=optimal_betas)}')\n",
    "\n",
    "#Predict y for x = 8\n",
    "x_test = 8\n",
    "print(f'Age at Death for {x_test} cigarettes/day:{predict(x=x_test,betas=optimal_betas)} ')"
   ]
  },
  {
   "attachments": {},
   "cell_type": "markdown",
   "metadata": {},
   "source": [
    "### Make a plot to observe the effect of learning rate at the same number of iterations"
   ]
  },
  {
   "cell_type": "code",
   "execution_count": 14,
   "metadata": {},
   "outputs": [
    {
     "data": {
      "image/png": "[encoded data removed]",
      "text/plain": [
       "<Figure size 432x288 with 1 Axes>"
      ]
     },
     "metadata": {
      "needs_background": "light"
     },
     "output_type": "display_data"
    }
   ],
   "source": [
    "from matplotlib import pyplot as plt\n",
    "plt.rcParams['figure.figsize'] = (12,8)\n",
    "\n",
    "#first plot the original data\n",
    "x = data[:,0]\n",
    "y = data[:,1]\n",
    "\n",
    "plt.scatter(x,y)\n",
    "\n",
    "#plot the predicted line when learning rate = 0.01\n",
    "y_pred1 = predict(x=x,betas=train(data,lr=0.01,iterations=1000))\n",
    "plt.plot(x,y_pred1, label = 'LearningRate: 0.01')\n",
    "\n",
    "#plot the predicted line when learning rate = 0.001\n",
    "y_pred2 = predict(x=x,betas=train(data,lr=0.001,iterations=1000))\n",
    "plt.plot(x,y_pred2, label = 'LearningRate: 0.001')\n",
    "plt.legend()\n",
    "plt.title('Rergession result at different LearningRate')\n",
    "plt.xlabel('Cigarettes/day')\n",
    "plt.ylabel('AgeAtDeath')\n",
    "plt.show()"
   ]
  },
  {
   "attachments": {},
   "cell_type": "markdown",
   "metadata": {},
   "source": [
    "So, here we observed that, learning rate 0.01 yield the best fit, while at learning rate 0.001, the regression line is too diversed."
   ]
  },
  {
   "attachments": {},
   "cell_type": "markdown",
   "metadata": {},
   "source": [
    "### Make a plot to observe the effect of different iterations at same learning rate"
   ]
  },
  {
   "cell_type": "code",
   "execution_count": 15,
   "metadata": {},
   "outputs": [
    {
     "data": {
      "image/png": "[encoded data removed]",
      "text/plain": [
       "<Figure size 432x288 with 1 Axes>"
      ]
     },
     "metadata": {
      "needs_background": "light"
     },
     "output_type": "display_data"
    }
   ],
   "source": [
    "#first plot the original data\n",
    "plt.scatter(x,y)\n",
    "\n",
    "#plot the predicted line for 1000 iterations\n",
    "y_pred1 = predict(x=x,betas=train(data,lr=0.01,iterations=1000))\n",
    "plt.plot(x,y_pred1, label = 'Iterations: 1000')\n",
    "\n",
    "#plot the predicted line for 5000 iterations\n",
    "y_pred2 = predict(x=x,betas=train(data,lr=0.01,iterations=5000))\n",
    "plt.plot(x,y_pred2, label = 'Iterations:5000')\n",
    "\n",
    "#plot the predicted line for 10000 iterations\n",
    "y_pred3 = predict(x=x,betas=train(data,lr=0.01,iterations=10000))\n",
    "plt.plot(x,y_pred3, label = 'Iterations: 10000')\n",
    "plt.legend()\n",
    "plt.title('Rergession result at different number of iterations')\n",
    "plt.xlabel('Cigarettes/day')\n",
    "plt.ylabel('AgeAtDeath')\n",
    "plt.show()"
   ]
  },
  {
   "attachments": {},
   "cell_type": "markdown",
   "metadata": {},
   "source": [
    "So we observed that, there is not much difference in the regression line for different number of iterations, when learning rate is same."
   ]
  },
  {
   "attachments": {},
   "cell_type": "markdown",
   "metadata": {},
   "source": [
    "So, we can choose the model at lr = 0.01 and iterations = 1000"
   ]
  },
  {
   "cell_type": "code",
   "execution_count": 16,
   "metadata": {},
   "outputs": [
    {
     "data": {
      "image/png": "[encoded data removed]",
      "text/plain": [
       "<Figure size 432x288 with 1 Axes>"
      ]
     },
     "metadata": {
      "needs_background": "light"
     },
     "output_type": "display_data"
    }
   ],
   "source": [
    "#first plot the original data\n",
    "plt.scatter(x,y,label = 'Actual points')\n",
    "\n",
    "#plot the predicted line for 1000 iterations\n",
    "y_pred1 = predict(x=x,betas=train(data,lr=0.01,iterations=1000))\n",
    "plt.plot(x,y_pred1, 'r', label = 'Predicted relation')\n",
    "plt.title('Age at Death according to Cigaretters/day')\n",
    "plt.xlabel('Cigarettes/day')\n",
    "plt.ylabel('AgeAtDeath')\n",
    "plt.legend()\n",
    "plt.show()\n",
    "plt.show()"
   ]
  }
 ],
 "metadata": {
  "kernelspec": {
   "display_name": "Python 3",
   "language": "python",
   "name": "python3"
  },
  "language_info": {
   "codemirror_mode": {
    "name": "ipython",
    "version": 3
   },
   "file_extension": ".py",
   "mimetype": "text/x-python",
   "name": "python",
   "nbconvert_exporter": "python",
   "pygments_lexer": "ipython3",
   "version": "3.8.10 (default, Nov 14 2022, 12:59:47) \n[GCC 9.4.0]"
  },
  "orig_nbformat": 4,
  "vscode": {
   "interpreter": {
    "hash": "916dbcbb3f70747c44a77c7bcd40155683ae19c65e1c03b4aa3499c5328201f1"
   }
  }
 },
 "nbformat": 4,
 "nbformat_minor": 2
}
