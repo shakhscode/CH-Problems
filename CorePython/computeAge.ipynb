{
 "cells": [
  {
   "cell_type": "code",
   "execution_count": 9,
   "metadata": {},
   "outputs": [
    {
     "name": "stdout",
     "output_type": "stream",
     "text": [
      "Your age is: 25\n"
     ]
    }
   ],
   "source": [
    "#In python to call a function first you have to define it\n",
    "# So, first define the function \n",
    "#In python usually it's not required to mention the data type. Data type is autodetected when a value is assigned to it.\n",
    "\n",
    "def computeAge(month, year):\n",
    "    #Take input from the user\n",
    "    inp2 = input('Enter the current month and year: ').split(\",\")\n",
    "\n",
    "    #separate the month and year\n",
    "    currMonth = int(inp2[0])\n",
    "    currYrr = int(inp2[1])\n",
    "\n",
    "    #Calculate the age\n",
    "    if currMonth < month:       #in python you don't need to write then. \n",
    "        age = currYrr - year -1\n",
    "    else:\n",
    "        age = currYrr - year\n",
    "    #don't need to specify end if.\n",
    "\n",
    "    #return age \n",
    "    return age\n",
    "\n",
    "#Function defination is done\n",
    "\n",
    "\n",
    "inp = input('Enter your birth month and year: ').split(\",\")\n",
    "#So we just took inputs as a list from thre user which contain month and year. \n",
    "#In the format: 11, 1998 for - November, 1998\n",
    "\n",
    "#Now separate it into month and year \n",
    "\n",
    "#The forst element in the list is the month\n",
    "month = inp[0]\n",
    "#Input was taken as string so we need to convert them into int\n",
    "month = int(month)\n",
    "\n",
    "#Similarly the second element is the year. In python indexing starts from 0. So 1 represents the second element.\n",
    "year = int(inp[1])\n",
    "\n",
    "#print(month, year)\n",
    "\n",
    "#Now calculate the age by calling the function\n",
    "Age = computeAge(month, year)\n",
    "\n",
    "#print the age\n",
    "print(f'Your age is: {Age}')"
   ]
  },
  {
   "cell_type": "code",
   "execution_count": 10,
   "metadata": {},
   "outputs": [
    {
     "name": "stdout",
     "output_type": "stream",
     "text": [
      "Your age is: 25\n"
     ]
    }
   ],
   "source": [
    "\n",
    "def computeAge(month, year):\n",
    "    #Take input from the user\n",
    "    currMonth = int(input('Enter the current month: '))\n",
    "    currYrr = int(input('Enter the current year:'))\n",
    "\n",
    "    #Calculate the age\n",
    "    if currMonth < month:       \n",
    "        age = currYrr - year -1\n",
    "    else:\n",
    "        age = currYrr - year\n",
    "    #return age \n",
    "    return age\n",
    "\n",
    "month = int(input('Enter your birth month:'))\n",
    "year = int(input('Enter your birth year:'))\n",
    "\n",
    "Age = computeAge(month, year)\n",
    "\n",
    "print(f'Your age is: {Age}')"
   ]
  }
 ],
 "metadata": {
  "kernelspec": {
   "display_name": "Python 3.8.10 64-bit",
   "language": "python",
   "name": "python3"
  },
  "language_info": {
   "codemirror_mode": {
    "name": "ipython",
    "version": 3
   },
   "file_extension": ".py",
   "mimetype": "text/x-python",
   "name": "python",
   "nbconvert_exporter": "python",
   "pygments_lexer": "ipython3",
   "version": "3.8.10 (default, Nov 14 2022, 12:59:47) \n[GCC 9.4.0]"
  },
  "orig_nbformat": 4,
  "vscode": {
   "interpreter": {
    "hash": "916dbcbb3f70747c44a77c7bcd40155683ae19c65e1c03b4aa3499c5328201f1"
   }
  }
 },
 "nbformat": 4,
 "nbformat_minor": 2
}
