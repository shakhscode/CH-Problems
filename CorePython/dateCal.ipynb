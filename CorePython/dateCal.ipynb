{
 "cells": [
  {
   "cell_type": "code",
   "execution_count": 5,
   "metadata": {},
   "outputs": [
    {
     "name": "stdout",
     "output_type": "stream",
     "text": [
      "The original string is : 04-01-1997\n",
      "Does date match format? : False\n"
     ]
    }
   ],
   "source": [
    "from datetime import datetime\n",
    "from datetime import date\n",
    "\n",
    "def convertDateTime(date):\n",
    "    #date: the given date in \"MM/dd/yyyy\" format\n",
    "\n",
    "\n",
    "#Base case:\n",
    "    #if the input doesn't contain any character i.e.\n",
    "    #  totally blank or contain only white spaces then return the error code.\n",
    "\n",
    "    if date == \"\" or date == \" \":\n",
    "        print('Error Code: E8430')\n",
    "\n",
    "    expected_format = \"%m/%d/%Y\"\n",
    "\n",
    "    try:\n",
    "        datetime.strptime(date,expected_format)\n",
    "        \n",
    "        today = datetime.now()\n",
    "\n",
    "        return str()\n",
    "\n",
    "    except ValueError:\n",
    "        print(\"Error code: E9021\")\n",
    "\n",
    "\n",
    "\n",
    " \n",
    "# initializing string\n",
    "test_str = '04-01-1997'\n",
    " \n",
    "# printing original string\n",
    "print(\"The original string is : \" + str(test_str))\n",
    " \n",
    "# initializing format\n",
    "format = \"%d/%m-%Y\"\n",
    " \n",
    "# checking if format matches the date\n",
    "res = True\n",
    " \n",
    "# using try-except to check for truth value\n",
    "try:\n",
    "    res = bool(datetime.strptime(test_str, format))\n",
    "except ValueError:\n",
    "    res = False\n",
    " \n",
    "# printing result\n",
    "print(\"Does date match format? : \" + str(res))\n",
    "\n"
   ]
  },
  {
   "cell_type": "code",
   "execution_count": 4,
   "metadata": {},
   "outputs": [],
   "source": [
    "convertDateTime('Hello ')"
   ]
  },
  {
   "cell_type": "code",
   "execution_count": null,
   "metadata": {},
   "outputs": [],
   "source": []
  }
 ],
 "metadata": {
  "kernelspec": {
   "display_name": "base",
   "language": "python",
   "name": "python3"
  },
  "language_info": {
   "codemirror_mode": {
    "name": "ipython",
    "version": 3
   },
   "file_extension": ".py",
   "mimetype": "text/x-python",
   "name": "python",
   "nbconvert_exporter": "python",
   "pygments_lexer": "ipython3",
   "version": "3.7.6"
  },
  "orig_nbformat": 4,
  "vscode": {
   "interpreter": {
    "hash": "1448b48b023bcc9c3d4a79e814720a10ca6d4244f75e0f7ce4af58f96ba2b7d3"
   }
  }
 },
 "nbformat": 4,
 "nbformat_minor": 2
}
