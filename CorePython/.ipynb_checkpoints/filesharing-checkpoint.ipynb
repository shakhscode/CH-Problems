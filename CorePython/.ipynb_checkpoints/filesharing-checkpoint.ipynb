{
 "cells": [
  {
   "cell_type": "code",
   "execution_count": 2,
   "metadata": {},
   "outputs": [
    {
     "name": "stdout",
     "output_type": "stream",
     "text": [
      "Correct_text line 1\n",
      "\n",
      "correct_text line 2\n",
      "\n",
      "Correct_text line 3\n",
      "\n",
      "Hello! I am writing this line for test.\n",
      "Let's see how this will work.\n",
      "I think it's going to work properly.\n"
     ]
    }
   ],
   "source": [
    "# Import a Python 3 library called tkinter\n",
    "from tkinter import Tk  \n",
    "\n",
    "\n",
    "# Open the exisitng file correct_text.txt with read and write access.\n",
    "f1 = open('correct_text.txt', 'r+')\n",
    "\n",
    "#Just to check - read what is in the file. You can comment this line later.\n",
    "print(f1.read())\n",
    "\n",
    "#Get the contennts of the clipboard\n",
    "contents = Tk().clipboard_get()\n",
    "#Just to check - read what is in the clipboard. You can comment this line later.\n",
    "print(contents)"
   ]
  },
  {
   "cell_type": "code",
   "execution_count": null,
   "metadata": {},
   "outputs": [],
   "source": []
  },
  {
   "cell_type": "code",
   "execution_count": null,
   "metadata": {},
   "outputs": [],
   "source": []
  }
 ],
 "metadata": {
  "kernelspec": {
   "display_name": "Python 3 (ipykernel)",
   "language": "python",
   "name": "python3"
  },
  "language_info": {
   "codemirror_mode": {
    "name": "ipython",
    "version": 3
   },
   "file_extension": ".py",
   "mimetype": "text/x-python",
   "name": "python",
   "nbconvert_exporter": "python",
   "pygments_lexer": "ipython3",
   "version": "3.8.10"
  },
  "vscode": {
   "interpreter": {
    "hash": "916dbcbb3f70747c44a77c7bcd40155683ae19c65e1c03b4aa3499c5328201f1"
   }
  }
 },
 "nbformat": 4,
 "nbformat_minor": 2
}
