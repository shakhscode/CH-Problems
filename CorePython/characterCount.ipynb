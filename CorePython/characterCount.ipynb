{
 "cells": [
  {
   "cell_type": "code",
   "execution_count": 2,
   "metadata": {},
   "outputs": [
    {
     "name": "stdout",
     "output_type": "stream",
     "text": [
      "Input: h here\n",
      "Output:\n",
      "1 h\n"
     ]
    }
   ],
   "source": [
    "#take input\n",
    "inp = input('Enter the string')\n",
    "\n",
    "#Split the first character  and the rest of the pharse\n",
    "spliter = inp.split(' ', 1) \n",
    "#spliter will return a list\n",
    "\n",
    "# Now separate the first character from the string.\n",
    "# Fisrt element from the spliter is the character\n",
    "character = spliter[0]  \n",
    "\n",
    "#Second element from the spliter is the pharse.\n",
    "pharse = spliter[1]\n",
    "\n",
    "#Now count how many times character is presenti in the pharse\n",
    "count = pharse.count(character)\n",
    "\n",
    "print('Input:', inp)\n",
    "print('Output:')\n",
    "#Now print the result\n",
    "if count == 1 :\n",
    "    print('{} {}'.format(count,character))\n",
    "else:\n",
    "    print(\"{} {}'s\".format(count, character))"
   ]
  }
 ],
 "metadata": {
  "kernelspec": {
   "display_name": "Python 3.8.10 64-bit",
   "language": "python",
   "name": "python3"
  },
  "language_info": {
   "codemirror_mode": {
    "name": "ipython",
    "version": 3
   },
   "file_extension": ".py",
   "mimetype": "text/x-python",
   "name": "python",
   "nbconvert_exporter": "python",
   "pygments_lexer": "ipython3",
   "version": "3.8.10 (default, Nov 14 2022, 12:59:47) \n[GCC 9.4.0]"
  },
  "orig_nbformat": 4,
  "vscode": {
   "interpreter": {
    "hash": "916dbcbb3f70747c44a77c7bcd40155683ae19c65e1c03b4aa3499c5328201f1"
   }
  }
 },
 "nbformat": 4,
 "nbformat_minor": 2
}
