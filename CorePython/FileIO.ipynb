{
 "cells": [
  {
   "cell_type": "code",
   "execution_count": 20,
   "metadata": {},
   "outputs": [
    {
     "data": {
      "text/plain": [
       "{'u1': (3, 5, 15),\n",
       " 'rec1': (80, 20, 1600),\n",
       " 'rec2': (7, 2, 14),\n",
       " 'z': (10, 2, 20)}"
      ]
     },
     "execution_count": 20,
     "metadata": {},
     "output_type": "execute_result"
    }
   ],
   "source": [
    "# Solution 4 a)\n",
    "\n",
    "def process_input(fname):\n",
    "\n",
    "    #create an empty dictionary\n",
    "    d = dict()\n",
    "\n",
    "    #open the file with read permission\n",
    "    f =  open(fname, 'r') \n",
    "\n",
    "\n",
    "\n",
    "    #start from second line because the first line is the header\n",
    "    for i in f.readlines()[1:]:\n",
    "        line = i.rstrip()\n",
    "        #split the line into a list\n",
    "        line = line.split(\",\")\n",
    "    \n",
    "        #get the elements from the  list \n",
    "        name = line[0]\n",
    "        width = int(line[1])\n",
    "        height = int(line[2])\n",
    "        area = round(width*height)\n",
    "\n",
    "        #make a dictionary with it\n",
    "        dict_element = {name:(width,height,area)}\n",
    "        #add the above to the dictionary \n",
    "        d.update(dict_element)\n",
    "    \n",
    "    #return the dictionary\n",
    "    return d\n",
    "\n",
    "#Now test it\n",
    "filename = 'rectangles.txt'\n",
    "process_input(filename)"
   ]
  },
  {
   "cell_type": "code",
   "execution_count": 46,
   "metadata": {},
   "outputs": [
    {
     "name": "stdout",
     "output_type": "stream",
     "text": [
      "rec1: (80, 20, 1600)\n"
     ]
    }
   ],
   "source": [
    "# Solution 4 b)\n",
    "\n",
    "def print_greatest_area(rdict):\n",
    "    \n",
    "    #get the keys of the dict as a list\n",
    "    keys = list(rdict.keys())\n",
    "\n",
    "    #create an empty list, later you will understand why we are creating this list\n",
    "    all_areas = []\n",
    "\n",
    "    #iterate through the each key of the dict\n",
    "    for key in keys:\n",
    "        area = rdict[key][2]   # as third element from the values tuple is the area\n",
    "        all_areas.append(area)\n",
    "\n",
    "    #Now get the index of the area from all_areas where area is maximum\n",
    "    max_area_index = all_areas.index(max(all_areas))\n",
    "\n",
    "    #Now find which key-value pair to return\n",
    "    return_key = keys[max_area_index]\n",
    "\n",
    "    #now return only that element from the dictionary\n",
    "   \n",
    "    print(f\"{return_key}: {rdict[return_key]}\")\n",
    "\n",
    "\n",
    "filename = 'rectangles.txt'\n",
    "di = process_input(filename)\n",
    "print_greatest_area(di)\n",
    "\n"
   ]
  }
 ],
 "metadata": {
  "kernelspec": {
   "display_name": "Python 3",
   "language": "python",
   "name": "python3"
  },
  "language_info": {
   "codemirror_mode": {
    "name": "ipython",
    "version": 3
   },
   "file_extension": ".py",
   "mimetype": "text/x-python",
   "name": "python",
   "nbconvert_exporter": "python",
   "pygments_lexer": "ipython3",
   "version": "3.8.10 (default, Nov 14 2022, 12:59:47) \n[GCC 9.4.0]"
  },
  "orig_nbformat": 4,
  "vscode": {
   "interpreter": {
    "hash": "916dbcbb3f70747c44a77c7bcd40155683ae19c65e1c03b4aa3499c5328201f1"
   }
  }
 },
 "nbformat": 4,
 "nbformat_minor": 2
}
