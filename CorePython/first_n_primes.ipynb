from math import sqrt

def first_n_primes(n):
    primes = []
    
    count = 0
    while count<=n:
        upper_range = n**2 
        for num in range(2,upper_range+1):
            for i in range(2, int(sqrt(num))):
                if num % i ==0:
                    break
            else:
                primes.append(num)
                count = count + 1
    print(f'First {count} prime numbers')
    return primes


first_n_primes(100)

