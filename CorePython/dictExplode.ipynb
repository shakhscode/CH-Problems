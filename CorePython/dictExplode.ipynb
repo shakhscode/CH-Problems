{
 "cells": [
  {
   "cell_type": "code",
   "execution_count": 1,
   "metadata": {},
   "outputs": [],
   "source": [
    "#to solve the problem we need python inbuilt module itertools\n",
    "import itertools\n",
    "\n",
    "def build_grid(params):\n",
    "   # since the input is a dictionary and we need to map the values\n",
    "   # according to lexographical order so first get the keys of the input dictionary \n",
    "   keys = list(params.keys())\n",
    "\n",
    "   #sort the keys\n",
    "   sorted_keys = sorted(keys)\n",
    "\n",
    "   #create an empty list to store the key-value pairs\n",
    "   lists_of_key_value_pairs = []\n",
    "\n",
    "   #now iterate over the keys to sort the values and separate each value as an\n",
    "   # individual key-value pair\n",
    "   for key in sorted_keys:\n",
    "      #sort the values of the key\n",
    "      params[key] = sorted(params[key])\n",
    "      #print(params[key])\n",
    "\n",
    "      #now explode the values of each key into different 'key-value' pair\n",
    "      key_value_list = list(zip([key] * len(params[key]), params[key]))\n",
    "      #print(key_value_list)\n",
    "\n",
    "      #append this to all lists\n",
    "      lists_of_key_value_pairs.append(key_value_list)\n",
    "      #print(all_lists)\n",
    "\n",
    "   #create an empty list, this will be the return value we gonna return\n",
    "   all_dicts = []\n",
    "\n",
    "   #now produce the cross ordered pairs from each list using python inbuilt module itertools\n",
    "\n",
    "   for i in itertools.product(*lists_of_key_value_pairs):\n",
    "\n",
    "      list_of_ordered_pairs = list(i)\n",
    "\n",
    "      #each list_of_ordered_pairs  will look like [('a', 10), ('b', 1), ('z', 3)]\n",
    "      #but we need to print them in the same order as in input like first 'b' then 'z' then 'a' for our given example\n",
    "      #So change the arrangement according to the arrangements in input \n",
    "\n",
    "      # to do this that just create a new list with with number of elements equal = length of keys in the input\n",
    "      new_list= list(range(len(keys)))\n",
    "   \n",
    "      for tup in list_of_ordered_pairs: #for each tuple in the element\n",
    "         #find the key from the particular tuple\n",
    "         key_ = tup[0]\n",
    "         #now find the index of this key_ in the original keys list\n",
    "         ind = keys.index(key_)\n",
    "\n",
    "         #now insert this particular tuple to the expected index in the new_list\n",
    "         new_list[ind] = tup \n",
    "   \n",
    "      #now convert the new list into a dictiony \n",
    "      single_dict = dict(new_list)\n",
    "      #print(single_dict)\n",
    "\n",
    "      #add this dictionary to the all_dictionaries \n",
    "      all_dicts.append(single_dict)\n",
    "\n",
    "   #return all_dicts\n",
    "   return all_dicts\n",
    "   \n"
   ]
  },
  {
   "cell_type": "code",
   "execution_count": 2,
   "metadata": {},
   "outputs": [
    {
     "data": {
      "text/plain": [
       "[{'b': 1, 'z': 3, 'a': 10},\n",
       " {'b': 1, 'z': 5, 'a': 10},\n",
       " {'b': 1, 'z': 6, 'a': 10},\n",
       " {'b': 2, 'z': 3, 'a': 10},\n",
       " {'b': 2, 'z': 5, 'a': 10},\n",
       " {'b': 2, 'z': 6, 'a': 10},\n",
       " {'b': 1, 'z': 3, 'a': 100},\n",
       " {'b': 1, 'z': 5, 'a': 100},\n",
       " {'b': 1, 'z': 6, 'a': 100},\n",
       " {'b': 2, 'z': 3, 'a': 100},\n",
       " {'b': 2, 'z': 5, 'a': 100},\n",
       " {'b': 2, 'z': 6, 'a': 100}]"
      ]
     },
     "execution_count": 2,
     "metadata": {},
     "output_type": "execute_result"
    }
   ],
   "source": [
    "# to test the function set an input example\n",
    "example1 = {'b': [1, 2], \"z\": [3, 5, 6], 'a': [100, 10]}\n",
    "\n",
    "#test the function \n",
    "build_grid(params=example1)\n"
   ]
  }
 ],
 "metadata": {
  "kernelspec": {
   "display_name": "Python 3",
   "language": "python",
   "name": "python3"
  },
  "language_info": {
   "codemirror_mode": {
    "name": "ipython",
    "version": 3
   },
   "file_extension": ".py",
   "mimetype": "text/x-python",
   "name": "python",
   "nbconvert_exporter": "python",
   "pygments_lexer": "ipython3",
   "version": "3.8.10 (default, Nov 14 2022, 12:59:47) \n[GCC 9.4.0]"
  },
  "orig_nbformat": 4,
  "vscode": {
   "interpreter": {
    "hash": "916dbcbb3f70747c44a77c7bcd40155683ae19c65e1c03b4aa3499c5328201f1"
   }
  }
 },
 "nbformat": 4,
 "nbformat_minor": 2
}
