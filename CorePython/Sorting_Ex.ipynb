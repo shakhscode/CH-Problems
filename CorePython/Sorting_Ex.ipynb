{
 "cells": [
  {
   "attachments": {},
   "cell_type": "markdown",
   "metadata": {},
   "source": [
    "### Exercise 5"
   ]
  },
  {
   "cell_type": "code",
   "execution_count": 2,
   "metadata": {},
   "outputs": [],
   "source": [
    "def rank(Name,Score):\n",
    "    # Name is a list of names, each emelent is a string.\n",
    "    # Score: is a list of numbers, each element is an integer.\n",
    "    \n",
    "  \n",
    "    #first sort the scores in descending order and put them into a new list\n",
    "    scores = sorted(Score,reverse=True)\n",
    "\n",
    "\n",
    "   #find the unique scores only from scores\n",
    "    unique_scores = []\n",
    "    for i in scores:\n",
    "        if i not in unique_scores:\n",
    "            unique_scores.append(i)\n",
    "    \n",
    "    \n",
    "    #initial rank\n",
    "    rank = 1\n",
    "    #Iterate through each unique score\n",
    "    for s in unique_scores:\n",
    "        #check the index of this particular score in the original Score list\n",
    "        #and find all the indices\n",
    "        indices =  [ind for ind, val in enumerate(Score) if val == s]\n",
    "        #print(indices)\n",
    "\n",
    "        #find how how many names are there for the same score\n",
    "        names_count = len(indices) \n",
    "        \n",
    "        #Now find the names from the Name list, using this indices\n",
    "        names = [Name[i] for i in indices]\n",
    "\n",
    "        #Now sort the names into alphabetical order\n",
    "        names = sorted(names)\n",
    "\n",
    "        print(f'Rank #{rank}:',\", \".join(names))\n",
    "\n",
    "        #Next rank will \n",
    "        rank = rank + names_count\n",
    "\n",
    "    return "
   ]
  },
  {
   "cell_type": "code",
   "execution_count": 3,
   "metadata": {},
   "outputs": [],
   "source": [
    "#the test cases\n",
    "Name1 = [\"Timothy\", \"William\", \"John\", \"Daniel\"]\n",
    "Score1 = [70,95,95,70]\n",
    "\n",
    "Name2 = [\"Alice\", \"Bob\", \"Charles\", \"David\", \"Eric\"]\n",
    "Score2 = [83,65,83,100,72]\n",
    "\n",
    "Name3 = [\"X\",\"T\",\"G\",\"L\",\"P\",\"H\",\"C\",\"R\"]\n",
    "Score3 = [92,56,33,56,33,74,56,74]"
   ]
  },
  {
   "cell_type": "code",
   "execution_count": 4,
   "metadata": {},
   "outputs": [
    {
     "name": "stdout",
     "output_type": "stream",
     "text": [
      "Rank #1: John, William\n",
      "Rank #3: Daniel, Timothy\n"
     ]
    }
   ],
   "source": [
    "rank(Name1,Score1)"
   ]
  },
  {
   "cell_type": "code",
   "execution_count": 5,
   "metadata": {},
   "outputs": [
    {
     "name": "stdout",
     "output_type": "stream",
     "text": [
      "Rank #1: David\n",
      "Rank #2: Alice, Charles\n",
      "Rank #4: Eric\n",
      "Rank #5: Bob\n"
     ]
    }
   ],
   "source": [
    "rank(Name2,Score2)"
   ]
  },
  {
   "cell_type": "code",
   "execution_count": 6,
   "metadata": {},
   "outputs": [
    {
     "name": "stdout",
     "output_type": "stream",
     "text": [
      "Rank #1: X\n",
      "Rank #2: H, R\n",
      "Rank #4: C, L, T\n",
      "Rank #7: G, P\n"
     ]
    }
   ],
   "source": [
    "rank(Name3,Score3)"
   ]
  },
  {
   "attachments": {},
   "cell_type": "markdown",
   "metadata": {},
   "source": [
    "### Exercise 4"
   ]
  },
  {
   "cell_type": "code",
   "execution_count": 1,
   "metadata": {},
   "outputs": [
    {
     "name": "stdout",
     "output_type": "stream",
     "text": [
      "       * \n",
      "       * * \n",
      "       * * * \n",
      "       * * * * \n",
      "   *       * \n",
      "   * *       * * \n",
      "   * * *       * * * \n",
      "   * * * *       * * * * \n"
     ]
    }
   ],
   "source": [
    "size = 4\n",
    "\n",
    "for i in range(1,size+1):\n",
    "    print(' '*size,end ='')  #single space\n",
    "\n",
    "    for j in range(size-1):  #single space\n",
    "        print(' ', end ='')\n",
    "    for j in range(i):\n",
    "        print(\"* \",end = '')  #star and space\n",
    "    print()\n",
    "\n",
    "\n",
    "for i in range(1,size+1):\n",
    "\n",
    "    for j in range(size-1):   #single space\n",
    "        print(' ',end ='')\n",
    "\n",
    "    for j in range(i):\n",
    "        print(\"* \",end = '')  #star and space\n",
    "    \n",
    "    for j in range(size-1):\n",
    "        print('  ',end ='')   #double space\n",
    "\n",
    "    for j in range(i):\n",
    "        print(\"* \",end = '')  #star and space\n",
    "    \n",
    "    print()\n",
    "    "
   ]
  }
 ],
 "metadata": {
  "kernelspec": {
   "display_name": "Python 3",
   "language": "python",
   "name": "python3"
  },
  "language_info": {
   "codemirror_mode": {
    "name": "ipython",
    "version": 3
   },
   "file_extension": ".py",
   "mimetype": "text/x-python",
   "name": "python",
   "nbconvert_exporter": "python",
   "pygments_lexer": "ipython3",
   "version": "3.8.10"
  },
  "orig_nbformat": 4,
  "vscode": {
   "interpreter": {
    "hash": "916dbcbb3f70747c44a77c7bcd40155683ae19c65e1c03b4aa3499c5328201f1"
   }
  }
 },
 "nbformat": 4,
 "nbformat_minor": 2
}
