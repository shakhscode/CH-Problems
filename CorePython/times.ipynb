{
 "cells": [
  {
   "cell_type": "code",
   "execution_count": 1,
   "metadata": {},
   "outputs": [
    {
     "name": "stdout",
     "output_type": "stream",
     "text": [
      "Hours:  2\n",
      "Total seconds in 2 Hours: 7200\n"
     ]
    }
   ],
   "source": [
    "#this program computes the number of seconds in a given number of hours\n",
    "\n",
    "hr = 2 \n",
    "# hr = number of hours\n",
    "\n",
    "seconds = 3600 \n",
    "# number of seconds in 1 hour\n",
    "\n",
    "print(\"Hours: \", hr) \n",
    "#printing the number of given hours\n",
    "\n",
    "\n",
    "print(f\"Total seconds in {hr} Hours: {hr * seconds}\") \n",
    "# printing total seconds in the given number of hours\n",
    "\n",
    "\n",
    "#this is the end of the program that computes the number of seconds in 2 hour"
   ]
  },
  {
   "cell_type": "code",
   "execution_count": 2,
   "metadata": {},
   "outputs": [
    {
     "name": "stdout",
     "output_type": "stream",
     "text": [
      "INPUT: 5 3 1 2 8 4 7 6 (length 8)\n",
      "OUTPUT: 1 2 3 4 5 6 7 8\n"
     ]
    }
   ],
   "source": [
    "def merge_sort(arr):\n",
    "\n",
    "    if len(arr) > 1:\n",
    "        mid = len(arr) // 2\n",
    "        left_half = arr[:mid]\n",
    "        right_half = arr[mid:]\n",
    "\n",
    "        merge_sort(left_half)\n",
    "        merge_sort(right_half)\n",
    "\n",
    "        i = j = k = 0\n",
    "\n",
    "        while i < len(left_half) and j < len(right_half):\n",
    "            if left_half[i] < right_half[j]:\n",
    "                arr[k] = left_half[i]\n",
    "                i += 1\n",
    "            else:\n",
    "                arr[k] = right_half[j]\n",
    "                j += 1\n",
    "            k += 1\n",
    "\n",
    "        while i < len(left_half):\n",
    "            arr[k] = left_half[i]\n",
    "            i += 1\n",
    "            k += 1\n",
    "\n",
    "        while j < len(right_half):\n",
    "            arr[k] = right_half[j]\n",
    "            j += 1\n",
    "            k += 1\n",
    "\n",
    "    return arr\n",
    "\n",
    "\n",
    "#Define the function to perfom the merge step and to print the outputs\n",
    "def do_merge_sort(arr):\n",
    "    #arr = given input array\n",
    "    print(\"INPUT: \", end=\"\")\n",
    "    print(*arr, end=\" (length \" + str(len(arr)) + \")\\n\")\n",
    "\n",
    "    arr = merge_sort(arr)\n",
    "\n",
    "    print(\"OUTPUT: \", end=\"\")\n",
    "    print(*arr)\n",
    "\n",
    "arr = [5, 3, 1, 2, 8, 4, 7, 6]\n",
    "do_merge_sort(arr)"
   ]
  },
  {
   "cell_type": "code",
   "execution_count": 3,
   "metadata": {},
   "outputs": [
    {
     "name": "stdout",
     "output_type": "stream",
     "text": [
      "INPUT: 5 3 1 2 8 4 7 6 (length 8)\n",
      "MERGE STEP 3: 3 5\n",
      "MERGE STEP 3: 1 2\n",
      "MERGE STEP 2: 1 2 3 5\n",
      "MERGE STEP 3: 4 8\n",
      "MERGE STEP 3: 6 7\n",
      "MERGE STEP 2: 4 6 7 8\n",
      "MERGE STEP 1: 1 2 3 4 5 6 7 8\n",
      "OUTPUT: 1 2 3 4 5 6 7 8\n",
      "COMPARISONS: 14\n"
     ]
    }
   ],
   "source": [
    "def merge_sort(arr, depth=0):\n",
    "    comparisons = 0\n",
    "    if len(arr) > 1:\n",
    "        mid = len(arr) // 2\n",
    "        left_half = arr[:mid]\n",
    "        right_half = arr[mid:]\n",
    "\n",
    "        left_half_comparisons, left_half = merge_sort(left_half, depth + 1)\n",
    "        comparisons += left_half_comparisons\n",
    "\n",
    "        right_half_comparisons, right_half = merge_sort(right_half, depth + 1)\n",
    "        comparisons += right_half_comparisons\n",
    "\n",
    "        i = j = k = 0\n",
    "\n",
    "        while i < len(left_half) and j < len(right_half):\n",
    "            if left_half[i] < right_half[j]:\n",
    "                arr[k] = left_half[i]\n",
    "                i += 1\n",
    "                comparisons += 1\n",
    "            else:\n",
    "                arr[k] = right_half[j]\n",
    "                j += 1\n",
    "                comparisons += 1\n",
    "            k += 1\n",
    "\n",
    "        while i < len(left_half):\n",
    "            arr[k] = left_half[i]\n",
    "            i += 1\n",
    "            k += 1\n",
    "\n",
    "        while j < len(right_half):\n",
    "            arr[k] = right_half[j]\n",
    "            j += 1\n",
    "            k += 1\n",
    "        \n",
    "        print(f\"MERGE STEP {depth + 1}:\", *arr)\n",
    "\n",
    "    return comparisons, arr\n",
    "\n",
    "def print_merge_sort(arr):\n",
    "    print(\"INPUT: \", end=\"\")\n",
    "    print(*arr, end=\" (length \" + str(len(arr)) + \")\\n\")\n",
    "\n",
    "    comparisons, arr = merge_sort(arr)\n",
    "\n",
    "    print(\"OUTPUT: \", end=\"\")\n",
    "    print(*arr)\n",
    "    print(\"COMPARISONS:\", comparisons)\n",
    "\n",
    "arr = [5, 3, 1, 2, 8, 4, 7, 6]\n",
    "print_merge_sort(arr)\n"
   ]
  },
  {
   "cell_type": "code",
   "execution_count": 4,
   "metadata": {},
   "outputs": [
    {
     "name": "stdout",
     "output_type": "stream",
     "text": [
      "INPUT: 5 3 1 2 8 4 7 6 (length 8)\n",
      "MERGE STEP 3: 3 5\n",
      "MERGE STEP 3: 1 2\n",
      "MERGE STEP 2: 1 2 3 5\n",
      "MERGE STEP 3: 4 8\n",
      "MERGE STEP 3: 6 7\n",
      "MERGE STEP 2: 4 6 7 8\n",
      "MERGE STEP 1: 1 2 3 4 5 6 7 8\n",
      "OUTPUT: 1 2 3 4 5 6 7 8\n",
      "COMPARISONS: 14\n"
     ]
    }
   ],
   "source": [
    "def merge_sort(arr, depth=0):\n",
    "    comparisons = 0\n",
    "    if len(arr) > 1:\n",
    "        mid = len(arr) // 2\n",
    "        left_half = arr[:mid]\n",
    "        right_half = arr[mid:]\n",
    "\n",
    "        left_half_comparisons, left_half = merge_sort(left_half, depth + 1)\n",
    "        comparisons += left_half_comparisons\n",
    "\n",
    "        right_half_comparisons, right_half = merge_sort(right_half, depth + 1)\n",
    "        comparisons += right_half_comparisons\n",
    "\n",
    "        i = j = k = 0\n",
    "\n",
    "        while i < len(left_half) and j < len(right_half):\n",
    "            if left_half[i] < right_half[j]:\n",
    "                arr[k] = left_half[i]\n",
    "                i += 1\n",
    "                comparisons += 1\n",
    "            else:\n",
    "                arr[k] = right_half[j]\n",
    "                j += 1\n",
    "                comparisons += 1\n",
    "            k += 1\n",
    "\n",
    "        while i < len(left_half):\n",
    "            arr[k] = left_half[i]\n",
    "            i += 1\n",
    "            k += 1\n",
    "\n",
    "        while j < len(right_half):\n",
    "            arr[k] = right_half[j]\n",
    "            j += 1\n",
    "            k += 1\n",
    "        \n",
    "        print(f\"MERGE STEP {depth + 1}:\", *arr)\n",
    "\n",
    "    return comparisons, arr\n",
    "\n",
    "def print_merge_sort(arr):\n",
    "    print(\"INPUT: \", end=\"\")\n",
    "    print(*arr, end=\" (length \" + str(len(arr)) + \")\\n\")\n",
    "\n",
    "    comparisons, arr = merge_sort(arr)\n",
    "\n",
    "    print(\"OUTPUT: \", end=\"\")\n",
    "    print(*arr)\n",
    "    print(\"COMPARISONS:\", comparisons)\n",
    "\n",
    "arr = [5, 3, 1, 2, 8, 4, 7, 6]\n",
    "print_merge_sort(arr)\n"
   ]
  }
 ],
 "metadata": {
  "kernelspec": {
   "display_name": "base",
   "language": "python",
   "name": "python3"
  },
  "language_info": {
   "codemirror_mode": {
    "name": "ipython",
    "version": 3
   },
   "file_extension": ".py",
   "mimetype": "text/x-python",
   "name": "python",
   "nbconvert_exporter": "python",
   "pygments_lexer": "ipython3",
   "version": "3.7.6"
  },
  "orig_nbformat": 4,
  "vscode": {
   "interpreter": {
    "hash": "1448b48b023bcc9c3d4a79e814720a10ca6d4244f75e0f7ce4af58f96ba2b7d3"
   }
  }
 },
 "nbformat": 4,
 "nbformat_minor": 2
}
