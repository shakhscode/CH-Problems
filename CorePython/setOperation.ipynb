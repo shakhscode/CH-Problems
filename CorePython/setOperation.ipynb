{
 "cells": [
  {
   "cell_type": "code",
   "execution_count": 62,
   "metadata": {},
   "outputs": [
    {
     "name": "stdout",
     "output_type": "stream",
     "text": [
      "0 0\n",
      "1 1\n",
      "1 2\n",
      "2 1\n",
      "2 2\n",
      "3 3\n",
      "Set A:{0, 1, 2, 3}\n",
      "True\n",
      "2 3\n",
      "3 4\n",
      "3 3\n",
      "Set A:{2, 3, 4}\n",
      "False\n",
      "1 6\n",
      "6 2\n",
      "Set A:{1, 2, 6}\n",
      "False\n",
      "0 1\n",
      "1 2\n",
      "0 2\n",
      "Set A:{0, 1, 2}\n",
      "True\n"
     ]
    }
   ],
   "source": [
    "class TransitiveRelation():\n",
    "\n",
    "    # your code under this function for returning True/False for Transitive  relation\n",
    "    def checkTransitiveRelation(self, relation_members):\n",
    "\n",
    "        #from the given list of tuples as relation R first extract the set A\n",
    "\n",
    "        #For this we modified the function printARelation() to extract the set A\n",
    "\n",
    "        #Now lets call the function here to extract the set.\n",
    "\n",
    "        set_A = self.printARelation(relation_members)\n",
    "\n",
    "        print(f'Set A:{set_A}')\n",
    "\n",
    "        #Now define a logic to check the transitivity\n",
    "\n",
    "    \n",
    "        #Using property 1: Any empty relation is a transitive relation\n",
    "        if len(relation_members) == 0:\n",
    "            return True\n",
    "\n",
    "        # Property 2: A relation R on a set A is called transitive if whenever \n",
    "        # (a,b) ∈ R and (b,c) ∈ R, then (a,c) ∈ R, for all a,b,c ∈ A.\n",
    "\n",
    "        for a in set_A:\n",
    "            for b in set_A:\n",
    "                if (a, b) in relation_members:\n",
    "                    for c in set_A:\n",
    "                        if (b, c) in relation_members and (a, c) not in relation_members:\n",
    "                            return False\n",
    "        return True\n",
    "\n",
    "                       \n",
    "\n",
    "    def printARelation(self, relation_members):\n",
    "        # Lets extract the set A from the relation R\n",
    "         \n",
    "        #create an empty set.\n",
    "        A = set()\n",
    "        for a, b in relation_members:\n",
    "            print(a,b)\n",
    "            A.add(a)  \n",
    "            A.add(b)  #this will add every unique element to the set A \n",
    "        return A\n",
    "\n",
    "\n",
    "# define an object of the class\n",
    "c = TransitiveRelation()\n",
    "\n",
    "#take an input \n",
    "input1 = [(0,0),(1,1),(1,2),(2,1),(2,2),(3,3)]\n",
    "inp2 = [(2,3),(3,4),(3,3)]\n",
    "inp3 = [(1,6),(6,2)]\n",
    "inp4 = [(0,1),(1,2),(0,2)]\n",
    "\n",
    "#check the result\n",
    "print(c.checkTransitiveRelation(input1))\n",
    "print(c.checkTransitiveRelation(inp2))\n",
    "print(c.checkTransitiveRelation(inp3))\n",
    "print(c.checkTransitiveRelation(inp4))"
   ]
  },
  {
   "cell_type": "code",
   "execution_count": null,
   "metadata": {},
   "outputs": [],
   "source": []
  },
  {
   "cell_type": "code",
   "execution_count": null,
   "metadata": {},
   "outputs": [],
   "source": [
    "\n"
   ]
  }
 ],
 "metadata": {
  "kernelspec": {
   "display_name": "Python 3.8.10 64-bit",
   "language": "python",
   "name": "python3"
  },
  "language_info": {
   "codemirror_mode": {
    "name": "ipython",
    "version": 3
   },
   "file_extension": ".py",
   "mimetype": "text/x-python",
   "name": "python",
   "nbconvert_exporter": "python",
   "pygments_lexer": "ipython3",
   "version": "3.8.10"
  },
  "orig_nbformat": 4,
  "vscode": {
   "interpreter": {
    "hash": "916dbcbb3f70747c44a77c7bcd40155683ae19c65e1c03b4aa3499c5328201f1"
   }
  }
 },
 "nbformat": 4,
 "nbformat_minor": 2
}
