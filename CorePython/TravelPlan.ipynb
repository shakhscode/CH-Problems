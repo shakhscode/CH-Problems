{
 "cells": [
  {
   "cell_type": "code",
   "execution_count": 1,
   "metadata": {},
   "outputs": [],
   "source": [
    "# define the function \n",
    "def get_travel_plan(cities, priorities):\n",
    "    # cities --> is a list\n",
    "    # priorities --> is a list of tuples\n",
    "\n",
    "\n",
    "    #Implement the second case \n",
    "    #when priorities = [('New York', 'Honolulu'), ('Honolulu', 'New York')]\n",
    "\n",
    "    for i in range(len(priorities)):\n",
    "        tup1 = priorities[i]\n",
    "        for j in range(i+1,len(priorities)):\n",
    "            tup2 = priorities[j]\n",
    "            if tup1[0] == tup2[1]:\n",
    "                print(\"These priorities cannot be turned into a travel plan!\")\n",
    "                return []\n",
    "    \n",
    "    #Otherwise\n",
    "\n",
    "    for tup in priorities:\n",
    "\n",
    "   \n",
    "        tuple_priority_index = priorities.index(tup)\n",
    "        # tuple_priority specifies the specific index of the tuple from the list priorities\n",
    "        #This is the index where first city from the tuple should exist.\n",
    "    \n",
    "        first_city = tup[0]\n",
    "        second_city = tup[1]\n",
    "\n",
    "        #find the position of the first_city from the cities list\n",
    "        first_city_previous_index= cities.index(first_city)\n",
    "\n",
    "        #find the position of the first_city from the cities list\n",
    "        second_city_previous_index= cities.index(second_city)\n",
    "\n",
    "        \n",
    "        #If first_city from the tuple is at expected place, then second_city from the tuple should be next to the first_city\n",
    "        if first_city == cities[tuple_priority_index]:\n",
    "            if second_city == cities[tuple_priority_index+1]:\n",
    "                pass\n",
    "            else:\n",
    "                cities.insert(first_city_previous_index+1,cities.pop(second_city_previous_index))\n",
    "\n",
    "            # we are using the logic to move an element of a list from one index to another index\n",
    "            # if l is a list, then move a particular element by index as \n",
    "            # l.insert(new_index_where_you_want_to_place_the_element, l.pop(old_index))       \n",
    "        \n",
    "        # If the first city is not in the expected position\n",
    "        if first_city != cities[tuple_priority_index]:\n",
    "\n",
    "            #insert to the correct position according to the priority\n",
    "            cities.insert(tuple_priority_index, cities.pop(first_city_previous_index))\n",
    "    \n",
    "            #In such situation the second city should be in the tuple_priority_index*2 index position\n",
    "            second_city_previous_index = cities.index(second_city)\n",
    "              \n",
    "            #If its not in the expected position then shift it\n",
    "            if second_city_previous_index != 2*tuple_priority_index:\n",
    "                cities.insert(2*tuple_priority_index,cities.pop(second_city_previous_index))\n",
    "\n",
    "    return cities"
   ]
  },
  {
   "cell_type": "markdown",
   "metadata": {},
   "source": [
    "### Test case 1"
   ]
  },
  {
   "cell_type": "code",
   "execution_count": 2,
   "metadata": {},
   "outputs": [
    {
     "data": {
      "text/plain": [
       "['London', 'Medellín', 'Prague', 'São Paulo', 'Berlin', 'Ladakh', 'Nice']"
      ]
     },
     "execution_count": 2,
     "metadata": {},
     "output_type": "execute_result"
    }
   ],
   "source": [
    "cities = ['London', 'Berlin', 'Medellín', 'São Paulo', 'Prague', 'Ladakh', 'Nice']\n",
    "priorities = [('London', 'Medellín'), ('Medellín', 'São Paulo'), ('Prague', 'Berlin')]\n",
    "get_travel_plan(cities,priorities)\n"
   ]
  },
  {
   "cell_type": "markdown",
   "metadata": {},
   "source": [
    "### Test case 2"
   ]
  },
  {
   "cell_type": "code",
   "execution_count": 3,
   "metadata": {},
   "outputs": [
    {
     "name": "stdout",
     "output_type": "stream",
     "text": [
      "These priorities cannot be turned into a travel plan!\n"
     ]
    },
    {
     "data": {
      "text/plain": [
       "[]"
      ]
     },
     "execution_count": 3,
     "metadata": {},
     "output_type": "execute_result"
    }
   ],
   "source": [
    "cities = ['New York', 'Honolulu']\n",
    "priorities = [('New York', 'Honolulu'), ('Honolulu', 'New York')]\n",
    "get_travel_plan(cities,priorities)"
   ]
  }
 ],
 "metadata": {
  "kernelspec": {
   "display_name": "Python 3.8.10 64-bit",
   "language": "python",
   "name": "python3"
  },
  "language_info": {
   "codemirror_mode": {
    "name": "ipython",
    "version": 3
   },
   "file_extension": ".py",
   "mimetype": "text/x-python",
   "name": "python",
   "nbconvert_exporter": "python",
   "pygments_lexer": "ipython3",
   "version": "3.8.10 (default, Nov 14 2022, 12:59:47) \n[GCC 9.4.0]"
  },
  "orig_nbformat": 4,
  "vscode": {
   "interpreter": {
    "hash": "916dbcbb3f70747c44a77c7bcd40155683ae19c65e1c03b4aa3499c5328201f1"
   }
  }
 },
 "nbformat": 4,
 "nbformat_minor": 2
}
