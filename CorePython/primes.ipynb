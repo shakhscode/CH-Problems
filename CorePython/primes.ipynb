{
 "cells": [
  {
   "cell_type": "code",
   "execution_count": 19,
   "metadata": {},
   "outputs": [
    {
     "name": "stdout",
     "output_type": "stream",
     "text": [
      "First 25 prime numbers\n",
      "[2, 3, 5, 7, 11, 13, 17, 19, 23, 29, 31, 37, 41, 43, 47, 53, 59, 61, 67, 71, 73, 79, 83, 89, 97]\n"
     ]
    }
   ],
   "source": [
    "from math import sqrt\n",
    "\n",
    "def first_n_primes(n):\n",
    "    primes = []\n",
    "    \n",
    "    count = 0\n",
    "\n",
    "    for num in range(2,pow(n,2)+1):\n",
    "        #print('Particular number is',num)\n",
    "\n",
    "        for i in range(2, num):\n",
    "            #print('Divding with:',i)\n",
    "            #print('division result:',num%i)\n",
    "            if (num % i) == 0:\n",
    "                break\n",
    "        else:\n",
    "            primes.append(num)\n",
    "            count = count + 1\n",
    "        if count == n:\n",
    "            break\n",
    "    print(f'First {len(primes)} prime numbers')\n",
    "    return primes\n",
    "\n",
    "n = 25\n",
    "print(first_n_primes(n))\n"
   ]
  }
 ],
 "metadata": {
  "kernelspec": {
   "display_name": "Python 3",
   "language": "python",
   "name": "python3"
  },
  "language_info": {
   "codemirror_mode": {
    "name": "ipython",
    "version": 3
   },
   "file_extension": ".py",
   "mimetype": "text/x-python",
   "name": "python",
   "nbconvert_exporter": "python",
   "pygments_lexer": "ipython3",
   "version": "3.8.10 (default, Nov 14 2022, 12:59:47) \n[GCC 9.4.0]"
  },
  "orig_nbformat": 4,
  "vscode": {
   "interpreter": {
    "hash": "916dbcbb3f70747c44a77c7bcd40155683ae19c65e1c03b4aa3499c5328201f1"
   }
  }
 },
 "nbformat": 4,
 "nbformat_minor": 2
}
