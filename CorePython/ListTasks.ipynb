{
 "cells": [
  {
   "cell_type": "code",
   "execution_count": 26,
   "metadata": {},
   "outputs": [
    {
     "name": "stdout",
     "output_type": "stream",
     "text": [
      "[1, 2, 3, 4, 5, 6, 7, 8, 9, 10]\n",
      "[1, 2, 3, 4, 5, 6]\n",
      "[3, 4, 5, 6, 7]\n",
      "[2, 4, 6, 8, 10]\n",
      "[9, 8, 7, 6, 5]\n"
     ]
    }
   ],
   "source": [
    "#TASK 1\n",
    "#Since the numbers are in sequence so \n",
    "# create a list using range function\n",
    "my_list = list(range(1,11))\n",
    "print(my_list)\n",
    "\n",
    "#Print from 1 to 6\n",
    "print(my_list[0:6])\n",
    "\n",
    "#print from 3 to 7\n",
    "print(my_list[2:7])\n",
    "\n",
    "#print even numbers only\n",
    "print([x for x in my_list if x % 2 == 0])\n",
    "\n",
    "#print 9 to 5 in reverse order\n",
    "print(my_list[8:3:-1])  \n",
    "#8 is the index of 9 and 3 is the index of 5. \n",
    "# -1 is to reverse it.\n",
    "\n",
    "\n",
    "\n"
   ]
  },
  {
   "cell_type": "code",
   "execution_count": 27,
   "metadata": {},
   "outputs": [
    {
     "name": "stdout",
     "output_type": "stream",
     "text": [
      "Initial list: [1, 2, 3, 4, 5, 6, 7, 8, 9, 10]\n",
      "List after change and append: [1.5, 2, 3, 4, 5, 6, 7, 8, 9, 10, 8.5]\n",
      "List after insert and remove: [1.5, 2, 3, 4, 5, 5.5, 6, 7, 8, 9, 8.5]\n",
      "Sorted list: [1.5, 2, 3, 4, 5, 5.5, 6, 7, 8, 8.5, 9]\n"
     ]
    }
   ],
   "source": [
    "#TASK 2\n",
    "#You can remove the print statements if you don't want.\n",
    "#Print statements are added just to show it step by step\n",
    "print('Initial list:', my_list)\n",
    "#Change the first element to 1.5 \n",
    "my_list[0] = 1.5\n",
    "\n",
    "#Add a new element 8.5 to the end of the list \n",
    "my_list.append(8.5)  #by default append adds a new element to the end\n",
    "\n",
    "#print the list to verify updates\n",
    "print('List after change and append:',my_list)\n",
    "\n",
    "#Since 5 and 6 are at index 4 and 5, so we need to insert 5.5 to 5th index\n",
    "my_list.insert(5,5.5)\n",
    "\n",
    "#Remove the existing element 10\n",
    "my_list.remove(10)\n",
    "\n",
    "print('List after insert and remove:',my_list)\n",
    "\n",
    "#Sort the list\n",
    "my_list = sorted(my_list)\n",
    "print('Sorted list:', my_list)"
   ]
  },
  {
   "cell_type": "code",
   "execution_count": 29,
   "metadata": {},
   "outputs": [
    {
     "name": "stdout",
     "output_type": "stream",
     "text": [
      "You entered: Awesome man in the postoffice\n",
      "Vowels and spaces in the string: Aeoe a i e ooie\n",
      "After removing ps and qs: Aweome man in the otoffice\n"
     ]
    }
   ],
   "source": [
    "#Take the user input\n",
    "inp_string = input(\"Enter a string: \")\n",
    "\n",
    "#Create a new string variable, containing only the vowels \n",
    "# and spaces from the user's string \n",
    "vowels_and_spaces = ''.join([c for c in inp_string if c in 'aeiouAEIOU '])\n",
    "\n",
    "#Create another new string variable, with the \n",
    "# ps and qs removed from the user's string\n",
    "no_ps_qs_string = ''.join([c for c in inp_string if c not in 'psPSqQ'])\n",
    "\n",
    "#Print the final strings\n",
    "print('You entered:',inp_string)\n",
    "print('Vowels and spaces in the string:',vowels_and_spaces)\n",
    "print('After removing ps and qs:',no_ps_qs_string)\n"
   ]
  }
 ],
 "metadata": {
  "kernelspec": {
   "display_name": "base",
   "language": "python",
   "name": "python3"
  },
  "language_info": {
   "codemirror_mode": {
    "name": "ipython",
    "version": 3
   },
   "file_extension": ".py",
   "mimetype": "text/x-python",
   "name": "python",
   "nbconvert_exporter": "python",
   "pygments_lexer": "ipython3",
   "version": "3.7.6"
  },
  "orig_nbformat": 4,
  "vscode": {
   "interpreter": {
    "hash": "1448b48b023bcc9c3d4a79e814720a10ca6d4244f75e0f7ce4af58f96ba2b7d3"
   }
  }
 },
 "nbformat": 4,
 "nbformat_minor": 2
}
