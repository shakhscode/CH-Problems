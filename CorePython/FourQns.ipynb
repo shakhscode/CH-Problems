{
 "cells": [
  {
   "cell_type": "code",
   "execution_count": 9,
   "metadata": {},
   "outputs": [
    {
     "name": "stdout",
     "output_type": "stream",
     "text": [
      "[0, 0, 1, 0, 0, 1, 0, 0]\n"
     ]
    }
   ],
   "source": [
    "#12)\n",
    "\n",
    "# start with the pattern of six zeros\n",
    "pattern = 6*[0]\n",
    "\n",
    "#add 1 after every two zeros: 0 0 1 0 0 1 0 0 1\n",
    "for index in range(len(pattern)):\n",
    "    if index % 3 == 2:\n",
    "        pattern.insert(index,1)\n",
    "print(pattern)"
   ]
  },
  {
   "cell_type": "code",
   "execution_count": 23,
   "metadata": {},
   "outputs": [
    {
     "name": "stdout",
     "output_type": "stream",
     "text": [
      "The man \n",
      "who knew too much\n",
      "knew \n",
      "hcum oot wenk ohw nam ehT\n",
      "The movie name has 6 words\n",
      "The movie name has 25 characters\n"
     ]
    }
   ],
   "source": [
    "# 13)\n",
    "movie = \"The man who knew too much\"\n",
    "\n",
    "#a)\n",
    "a = movie[0:8]  #This extracts characters from the movie string upto 7th index\n",
    "print(a)\n",
    "\n",
    "#b)\n",
    "print(movie.replace(a,\"\"))\n",
    "#This actually removes the string 'a' from the string 'movie' and prints the remaining\n",
    "\n",
    "#c) \n",
    "print(movie[12:17])\n",
    "\n",
    "#d) print the string in reverse\n",
    "print(''.join(reversed(movie)))\n",
    "#reversed(movie) gives reveresed string as an object, so we used join method to join the \n",
    "#characters from that reversed object\n",
    "\n",
    "#e) count the words in the string\n",
    "print(f'The movie name has {len(movie.split())} words')\n",
    "#split() function splits each word and then len function counts the number of words\n",
    "\n",
    "#f)count the characters in the string\n",
    "print(f'The movie name has {len(movie)} characters')\n"
   ]
  },
  {
   "cell_type": "code",
   "execution_count": 52,
   "metadata": {},
   "outputs": [
    {
     "name": "stdout",
     "output_type": "stream",
     "text": [
      "(3, 3, 2)\n"
     ]
    }
   ],
   "source": [
    "#14)\n",
    "def count_digits(number):\n",
    "    #number: the given int or float number\n",
    "\n",
    "    #Since by default any input in python is a string\n",
    "    #So, first convert the string into a float and then into a int because \n",
    "    # we need to consider digits before decimal\n",
    "    number = int(float(number))\n",
    "\n",
    "\n",
    "    # Use a list comprehension to count the number of even, odd digits & zeros\n",
    "\n",
    "    even_count = sum([1 for x in str(number) if x.isdigit() and (int(x) % 2 == 0 and int(x)!=0)])\n",
    "    \n",
    "    odd_count = sum([1 for x in str(number) if x.isdigit() and int(x) % 2 != 0])\n",
    "\n",
    "    zero_count = sum([1 for x in str(number) if x.isdigit() and int(x)==0 ])\n",
    "   \n",
    "    return (even_count,odd_count,zero_count)\n",
    "\n",
    "\n",
    "\n",
    "#Output testing\n",
    "number = input(\"Enter a number\")\n",
    "print(count_digits(number))\n"
   ]
  },
  {
   "cell_type": "code",
   "execution_count": 53,
   "metadata": {},
   "outputs": [
    {
     "name": "stdout",
     "output_type": "stream",
     "text": [
      "(3, 3, 0)\n"
     ]
    }
   ],
   "source": [
    "number = input(\"Enter a number\")\n",
    "print(count_digits(number))"
   ]
  },
  {
   "cell_type": "code",
   "execution_count": null,
   "metadata": {},
   "outputs": [],
   "source": [
    "#15)\n",
    "class Bicycle:\n",
    "\n",
    "    def change_gear(*params):\n",
    "        #statements\n",
    "        return\n",
    "\n",
    "    def apply_brake(is_break, gear_level):\n",
    "        # Variables that has boolean answers True or Flase normally named with is_\n",
    "        return\n",
    "    "
   ]
  }
 ],
 "metadata": {
  "kernelspec": {
   "display_name": "base",
   "language": "python",
   "name": "python3"
  },
  "language_info": {
   "codemirror_mode": {
    "name": "ipython",
    "version": 3
   },
   "file_extension": ".py",
   "mimetype": "text/x-python",
   "name": "python",
   "nbconvert_exporter": "python",
   "pygments_lexer": "ipython3",
   "version": "3.7.6"
  },
  "orig_nbformat": 4,
  "vscode": {
   "interpreter": {
    "hash": "1448b48b023bcc9c3d4a79e814720a10ca6d4244f75e0f7ce4af58f96ba2b7d3"
   }
  }
 },
 "nbformat": 4,
 "nbformat_minor": 2
}
