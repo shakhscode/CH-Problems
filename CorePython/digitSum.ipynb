{
 "cells": [
  {
   "attachments": {},
   "cell_type": "markdown",
   "metadata": {},
   "source": [
    "### Method 1: Using loops and modulas operator"
   ]
  },
  {
   "cell_type": "code",
   "execution_count": 6,
   "metadata": {},
   "outputs": [
    {
     "name": "stdout",
     "output_type": "stream",
     "text": [
      "Please! give a positive argument :)\n",
      "Please! give a positive argument :)\n",
      "10\n",
      "15\n",
      "9\n",
      "11\n"
     ]
    }
   ],
   "source": [
    "def sum_digits(number):\n",
    "    \n",
    "    #We need to add the digits for postive number only \n",
    "    #So if it is a non-positive number then return a message\n",
    "    if number <= 0:\n",
    "        return 'Please! give a positive argument :)'\n",
    "    \n",
    "    sum_digits = 0\n",
    "\n",
    "    while number:\n",
    "\n",
    "        #find the remainder when divided by 10\n",
    "        #Everytie the remainder will be a digit from the number\n",
    "        digit = number % 10 \n",
    "\n",
    "        sum_digits = sum_digits + digit\n",
    "        \n",
    "        #find the rest of the digits of the number by interger division by 10.\n",
    "        rest_digits = number//10  \n",
    "\n",
    "        number = rest_digits\n",
    "        \n",
    "        #the loop will continue until the rest_digits is 0\n",
    "    \n",
    "    #finally return the sum_digits\n",
    "    return sum_digits\n",
    "\n",
    "#testing for 6 different numbers\n",
    "test_numbers = [-123,0,1234,53412,1332,1442]\n",
    "\n",
    "for i in test_numbers:\n",
    "    print(sum_digits(i))\n"
   ]
  },
  {
   "attachments": {},
   "cell_type": "markdown",
   "metadata": {},
   "source": [
    "### Method 2: Using python list, int, str functions"
   ]
  },
  {
   "cell_type": "code",
   "execution_count": 4,
   "metadata": {},
   "outputs": [
    {
     "name": "stdout",
     "output_type": "stream",
     "text": [
      "Sum of digits of the number 123 = 6\n",
      "Sum of digits of the number 1234 = 10\n",
      "Sum of digits of the number 53412 = 15\n",
      "Sum of digits of the number 1332 = 9\n",
      "Sum of digits of the number 1442 = 11\n"
     ]
    }
   ],
   "source": [
    "def digitSum(inp):\n",
    "    #inp is the input integer\n",
    "    \n",
    "    #extract the single didgits from the integer\n",
    "    digits = [int(s) for s in str(inp)]\n",
    "\n",
    "    return sum(digits)\n",
    "\n",
    "\n",
    "#testing for 5 different numbers\n",
    "test_numbers = [123,1234,53412,1332,1442]\n",
    "\n",
    "for i in test_numbers:\n",
    "    print(f'Sum of digits of the number {i} = {digitSum(i)}')\n"
   ]
  }
 ],
 "metadata": {
  "kernelspec": {
   "display_name": "Python 3",
   "language": "python",
   "name": "python3"
  },
  "language_info": {
   "codemirror_mode": {
    "name": "ipython",
    "version": 3
   },
   "file_extension": ".py",
   "mimetype": "text/x-python",
   "name": "python",
   "nbconvert_exporter": "python",
   "pygments_lexer": "ipython3",
   "version": "3.8.10"
  },
  "orig_nbformat": 4,
  "vscode": {
   "interpreter": {
    "hash": "916dbcbb3f70747c44a77c7bcd40155683ae19c65e1c03b4aa3499c5328201f1"
   }
  }
 },
 "nbformat": 4,
 "nbformat_minor": 2
}
