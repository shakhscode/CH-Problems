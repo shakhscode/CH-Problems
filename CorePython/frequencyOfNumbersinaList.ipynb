{
 "cells": [
  {
   "cell_type": "code",
   "execution_count": 25,
   "metadata": {},
   "outputs": [],
   "source": [
    "def problem3_sum1(L):\n",
    "    # L: a list of integers\n",
    "\n",
    "    u_el = []\n",
    "    #u_el is the list of unique elements in L\n",
    "\n",
    "    n_fn2_product = []\n",
    "    #This list is to store the product of frequency and the element\n",
    "\n",
    "   \n",
    "    for n in L:\n",
    "\n",
    "        #If n is a unique element add it to the u_el list\n",
    "        if n not in u_el:\n",
    "            u_el.append(n)\n",
    "\n",
    "            #count the frequency of each unique number\n",
    "            # square it and then multiply it with the element itself\n",
    "            n_fn2_product.append(n*((L.count(n))**2))\n",
    "    \n",
    "    return sum(n_fn2_product)\n"
   ]
  },
  {
   "cell_type": "code",
   "execution_count": 31,
   "metadata": {},
   "outputs": [
    {
     "name": "stdout",
     "output_type": "stream",
     "text": [
      "57\n",
      "503840281844\n"
     ]
    }
   ],
   "source": [
    "\n",
    "def problem3_sum(L):\n",
    "    # L: a list of integers\n",
    "\n",
    "    freq = {}\n",
    "    #it will contain the frequency of each element\n",
    "\n",
    "    for n in L:\n",
    "        if n not in freq:\n",
    "            #if n is not in freq then add it\n",
    "            freq[n] = 1\n",
    "        else:\n",
    "            #if n is already there then increase its frequency\n",
    "            freq[n] += 1\n",
    "    \n",
    "    total = 0\n",
    "\n",
    "    for key,value in freq.items():\n",
    "\n",
    "        total = total + key*(value**2)\n",
    "    \n",
    "    return total\n",
    "\n",
    "\n",
    "#Now test the function \n",
    "#test 1\n",
    "L = [1,2,3,1,-1,5,2,1,2,0,3,2]\n",
    "print(problem3_sum(L))\n",
    "\n",
    "#test 2\n",
    "#Generate a large list and test the function\n",
    "import random\n",
    "L = [random.randrange(10000) for i in range(10**6)]\n",
    "print(problem3_sum(L))\n",
    "\n"
   ]
  }
 ],
 "metadata": {
  "kernelspec": {
   "display_name": "base",
   "language": "python",
   "name": "python3"
  },
  "language_info": {
   "codemirror_mode": {
    "name": "ipython",
    "version": 3
   },
   "file_extension": ".py",
   "mimetype": "text/x-python",
   "name": "python",
   "nbconvert_exporter": "python",
   "pygments_lexer": "ipython3",
   "version": "3.7.6"
  },
  "orig_nbformat": 4,
  "vscode": {
   "interpreter": {
    "hash": "1448b48b023bcc9c3d4a79e814720a10ca6d4244f75e0f7ce4af58f96ba2b7d3"
   }
  }
 },
 "nbformat": 4,
 "nbformat_minor": 2
}
