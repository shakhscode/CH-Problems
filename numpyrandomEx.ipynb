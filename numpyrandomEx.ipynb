{
 "cells": [
  {
   "cell_type": "code",
   "execution_count": 2,
   "metadata": {},
   "outputs": [
    {
     "name": "stdout",
     "output_type": "stream",
     "text": [
      "The random value is 18\n",
      "The random value is 91\n",
      "The index is out of range.\n"
     ]
    }
   ],
   "source": [
    "import numpy as np\n",
    "\n",
    "def random_value(size, multiplier, index):\n",
    "    #size = size of the random array\n",
    "    #multiplier = the number with which array element will be multiplied.\n",
    "    # index = index of the element we want to print.\n",
    "\n",
    "    #set the random seed\n",
    "    np.random.seed(42)\n",
    "\n",
    "    #generate a random array that contains total number of elements equal to size and each value is random in between 0 to 10.\n",
    "    #Then multiply the array. This will be element wise multiplication.\n",
    "    random_array = np.random.randint(0, 11, size) * multiplier\n",
    "\n",
    "    #Use try and except block, so that the function is not crashed when index is higher than size of the array.\n",
    "    try:\n",
    "        result = random_array[index]\n",
    "        print(f\"The random value is {result}\")\n",
    "    \n",
    "    except IndexError:\n",
    "        print(\"The index is out of range.\")\n",
    "\n",
    "#testing for 3 test cases\n",
    "random_value(10,3,5)\n",
    "\n",
    "random_value(20,13,14)\n",
    "\n",
    "random_value(7,7,8)"
   ]
  }
 ],
 "metadata": {
  "kernelspec": {
   "display_name": "base",
   "language": "python",
   "name": "python3"
  },
  "language_info": {
   "codemirror_mode": {
    "name": "ipython",
    "version": 3
   },
   "file_extension": ".py",
   "mimetype": "text/x-python",
   "name": "python",
   "nbconvert_exporter": "python",
   "pygments_lexer": "ipython3",
   "version": "3.7.6"
  },
  "orig_nbformat": 4,
  "vscode": {
   "interpreter": {
    "hash": "1448b48b023bcc9c3d4a79e814720a10ca6d4244f75e0f7ce4af58f96ba2b7d3"
   }
  }
 },
 "nbformat": 4,
 "nbformat_minor": 2
}
